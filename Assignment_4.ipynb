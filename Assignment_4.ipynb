{
 "cells": [
  {
   "cell_type": "markdown",
   "id": "9184d30e",
   "metadata": {},
   "source": [
    "#### 2020136060 배수민"
   ]
  },
  {
   "cell_type": "markdown",
   "id": "843976dd",
   "metadata": {},
   "source": [
    "# 일반 문제\n",
    "_____\n",
    "### 1번"
   ]
  },
  {
   "cell_type": "markdown",
   "id": "afe32d1d",
   "metadata": {},
   "source": [
    "다음 문제를 읽고 알맞은 코드를 제시하시오"
   ]
  },
  {
   "cell_type": "markdown",
   "id": "7ceb5959",
   "metadata": {},
   "source": [
    "* 1) 파일 s.txt 내의 다음 내용과 함께 아래 문제의 코드를 제시하시오.\n",
    "> pig ham  \n",
    "cat dog  \n",
    "ham bird  \n",
    "dog pig  "
   ]
  },
  {
   "cell_type": "code",
   "execution_count": 1,
   "id": "8135a847",
   "metadata": {},
   "outputs": [
    {
     "name": "stdout",
     "output_type": "stream",
     "text": [
      "pig ham\n",
      "cat dog\n",
      "ham bird\n",
      "dog pig\n",
      "\n"
     ]
    }
   ],
   "source": [
    "with open('s.txt', 'w') as f:\n",
    "    f.write('pig ham\\n')\n",
    "    f.write('cat dog\\n')\n",
    "    f.write('ham bird\\n')\n",
    "    f.write('dog pig\\n')\n",
    "\n",
    "# 코드 확인용\n",
    "with open('s.txt', 'r') as f:\n",
    "    print(f.read())"
   ]
  },
  {
   "cell_type": "markdown",
   "id": "dec50637",
   "metadata": {},
   "source": [
    "* 2) 파일 s.txt을 읽어서 각 라인에 있는 첫 번째 단어(문자열) 자체들을 기준으로 라인별 정렬후 파일 s1.txt에 그 결과를 기록하는 코드를 작성하시오. 즉, 프로그램 수행 후 s1.txt에 있는 파일 내용은 다음과 같다.\n",
    "> cat dog   \n",
    "dog pig  \n",
    "ham bird  \n",
    "pig ham    "
   ]
  },
  {
   "cell_type": "code",
   "execution_count": 2,
   "id": "d6237279",
   "metadata": {},
   "outputs": [
    {
     "name": "stdout",
     "output_type": "stream",
     "text": [
      "cat dog\n",
      "dog pig\n",
      "ham bird\n",
      "pig ham\n",
      "\n"
     ]
    }
   ],
   "source": [
    "line = []\n",
    "with open('s.txt', 'r') as f:\n",
    "    line = f.readlines()\n",
    "    line.sort()\n",
    "with open('s1.txt', 'w') as f1:\n",
    "    for i in line:\n",
    "        f1.write(i)\n",
    "\n",
    "# 코드 확인용 \n",
    "with open('s1.txt', 'r') as f:\n",
    "    print(f.read())"
   ]
  },
  {
   "cell_type": "markdown",
   "id": "14bcca3e",
   "metadata": {},
   "source": [
    "* 3) 파일 s.txt을 읽어서 각 라인에 있는 두 번째 단어(문자열) 자체들을 기준으로 라인별 정렬후 파일 s2.txt에 그 결과를 기록하는 코드를 작성하시오. 즉, 프로그램 수행 후 s2.txt에 있는 파일 내용은 다음과 같다.\n",
    "> ham bird  \n",
    "cat dog  \n",
    "pig ham  \n",
    "dog pig  "
   ]
  },
  {
   "cell_type": "code",
   "execution_count": 3,
   "id": "0667febd",
   "metadata": {},
   "outputs": [
    {
     "name": "stdout",
     "output_type": "stream",
     "text": [
      "ham bird\n",
      "cat dog\n",
      "pig ham\n",
      "dog pig\n",
      "\n"
     ]
    }
   ],
   "source": [
    "line = []\n",
    "\n",
    "def second_word(l):\n",
    "    return l[l.find(' ') + 1]\n",
    "\n",
    "with open('s.txt', 'r') as f:\n",
    "    line = f.readlines()\n",
    "    line.sort(key=second_word)\n",
    "with open('s2.txt', 'w') as f2:\n",
    "    for i in line:\n",
    "        f2.write(i)\n",
    "\n",
    "# 코드 확인용 \n",
    "with open('s2.txt', 'r') as f:\n",
    "    print(f.read())        "
   ]
  },
  {
   "cell_type": "markdown",
   "id": "40d70ce4",
   "metadata": {},
   "source": [
    "* 4) 파일 s.txt을 읽어서 각 라인들에 있는 모든 단어들을 순차적으로 다시 나열하되 각 라인에 세 개의 단어들이 오도록 하여 s3.txt에 기록하는 코드를 작성하시오. 즉, 프로그램 수행 후 s3.txt에 있는 파일 내용은 다음과 같다.\n",
    "> pig ham cat  \n",
    "dog ham bird  \n",
    "dog pig  "
   ]
  },
  {
   "cell_type": "code",
   "execution_count": 4,
   "id": "1573583e",
   "metadata": {},
   "outputs": [
    {
     "name": "stdout",
     "output_type": "stream",
     "text": [
      "pig ham cat\n",
      "dog ham bird\n",
      "dog pig \n"
     ]
    }
   ],
   "source": [
    "line = []\n",
    "word = []\n",
    "\n",
    "with open('s.txt', 'r') as f:\n",
    "    line = f.readlines()\n",
    "    line_temp = []\n",
    "    for i in line:\n",
    "        i = i.rstrip('\\n')\n",
    "        line_temp = i.split(' ')\n",
    "        for j in line_temp:\n",
    "            word.append(j)\n",
    "\n",
    "with open('s3.txt', 'w') as f3:\n",
    "    for i in word:\n",
    "        f3.write(i)\n",
    "        if (word.index(i) + 1) % 3 == 0:\n",
    "            f3.write('\\n')\n",
    "        else:\n",
    "            f3.write(' ')\n",
    "\n",
    "# 코드 확인용 \n",
    "with open('s3.txt', 'r') as f:\n",
    "    print(f.read())      "
   ]
  },
  {
   "cell_type": "markdown",
   "id": "1ca63f4d",
   "metadata": {},
   "source": [
    "### 1번 설명"
   ]
  },
  {
   "cell_type": "markdown",
   "id": "68009a96",
   "metadata": {},
   "source": [
    "1) 'w'모드에서 s.txt를 새로 생성해주었고, 제시된 내용을 write()를 통해 파일에 넣어주었다.  \n",
    "2) 'r'모드로 s.txt를 열어 readlines()으로 한 줄씩 line 리스트에 넣어줬다. 첫번째 단어 기준 정렬이므로 그대로 line을 sort()로 정렬하고, 리스트의 인덱스 순서대로 'w'모드로  s1.txt에 작성하였다.  \n",
    "3) 'r'모드로 s.txt를 열어 readlines()으로 한 줄씩 line 리스트에 넣어줬다. 첫번째 공백 다음 문자가 두번째 단어의 시작이므로 이와 관련해서 함수를 정의해주었고, 이 함수를 기준으로 line을 정렬해주었다. 그리고 나서 리스트의 인덱스 순서대로 'w'모드로  s2.txt에 작성하였다.  \n",
    "4) 한 줄에 오는 단어의 개수를 변경해야되기 때문에 \"readlines() -> '\\n'제거 -> 공백 기준으로 문자열 분리\" 순서로 s.txt의 모든 단어가 들어있는 리스트 word를 생성하였다. s3.txt에 내용을 작성할 때는 한 줄에 단어 3개가 있으면 개행 문자, 없으면 공백을 넣어주는 방식으로 해주었다."
   ]
  },
  {
   "cell_type": "markdown",
   "id": "6fdbe380",
   "metadata": {},
   "source": [
    "_____\n",
    "### 2번"
   ]
  },
  {
   "cell_type": "markdown",
   "id": "285b676d",
   "metadata": {},
   "source": [
    "다음과 같은 조건들을 참고하여 회원 가입 및 로그인 프로그램을 작성하시오."
   ]
  },
  {
   "cell_type": "markdown",
   "id": "8b53e8ed",
   "metadata": {},
   "source": [
    "* 1) 프로그램 시작 후 다음과 같은 메시지가 출력되어 1, 2, 3 중 하나의 값을 입력 받도록 한다.\n",
    "> Welcome to Our Service  \n",
    " A. Sign Up  \n",
    " B. Sign In  \n",
    " C. Quit\n",
    "* 2) 1을 선택하면 ID, Password, Name, School의 4가지 정보를 입력받아 파일에 저장하는 프로그램을 작성한다.\n",
    "* 3) 2를 선택하면 ID, Password의 2가지 정보를 입력받는 프로그램을 작성한다.\n",
    "* 4) 3을 선택하면 프로그램이 끝난다."
   ]
  },
  {
   "cell_type": "code",
   "execution_count": 5,
   "id": "8f1486c2",
   "metadata": {},
   "outputs": [],
   "source": [
    "def print_message():\n",
    "    print(\"\\nWelcome to Our Service\")\n",
    "    print(\"A. Sign Up\")\n",
    "    print(\"B. Sign In\")\n",
    "    print(\"C. Quit\")"
   ]
  },
  {
   "cell_type": "code",
   "execution_count": 6,
   "id": "66150ed2",
   "metadata": {},
   "outputs": [],
   "source": [
    "#with open('access.txt', 'w') as f:\n",
    "    #f.write('')"
   ]
  },
  {
   "cell_type": "code",
   "execution_count": 7,
   "id": "877bcd4e",
   "metadata": {},
   "outputs": [],
   "source": [
    "def analyze_file():\n",
    "    identify = []; pw = []; name = []; school = []\n",
    "    with open('access.txt', 'r') as f:\n",
    "        account = f.readlines()\n",
    "        for a in account:\n",
    "            identify.append(a[:a.find(':')])\n",
    "            a = a[a.find(' ')+1:]\n",
    "            temp = []\n",
    "            temp = a.split(', ')\n",
    "            pw.append(temp[0])\n",
    "            name.append(temp[1])\n",
    "            school.append(temp[2].rstrip('\\n'))\n",
    "            \n",
    "    return identify, pw, name, school"
   ]
  },
  {
   "cell_type": "code",
   "execution_count": 8,
   "id": "4a03fd74",
   "metadata": {},
   "outputs": [],
   "source": [
    "def is_registeredID(input_id, l):\n",
    "    return input_id in l"
   ]
  },
  {
   "cell_type": "code",
   "execution_count": 9,
   "id": "a2344d3c",
   "metadata": {},
   "outputs": [],
   "source": [
    "def is_rightPW(input_id, input_pw, id_list, pw_list):\n",
    "    info = id_list.index(input_id)\n",
    "    return input_pw == pw_list[info]"
   ]
  },
  {
   "cell_type": "code",
   "execution_count": 11,
   "id": "988d5fa1",
   "metadata": {},
   "outputs": [
    {
     "name": "stdout",
     "output_type": "stream",
     "text": [
      "\n",
      "Welcome to Our Service\n",
      "A. Sign Up\n",
      "B. Sign In\n",
      "C. Quit\n",
      "\n",
      ">>1\n",
      "\n",
      "ID: 1\n",
      "Password: 2\n",
      "Name: 3\n",
      "School: 4\n",
      "\n",
      "Welcome to Our Service\n",
      "A. Sign Up\n",
      "B. Sign In\n",
      "C. Quit\n",
      "\n",
      ">>2\n",
      "\n",
      "ID: mine1913\n",
      "Password: 12\n",
      "Sorry, the entered password is not correct.\n",
      "Password: 123\n",
      "\n",
      "Hello Sumin Bae!\n",
      "\n",
      "Welcome to Our Service\n",
      "A. Sign Up\n",
      "B. Sign In\n",
      "C. Quit\n",
      "\n",
      ">>2\n",
      "\n",
      "ID: 4\n",
      "Sorry, you are not a registered member.\n",
      "\n",
      "ID: 1\n",
      "Password: 2\n",
      "\n",
      "Hello 3!\n",
      "\n",
      "Welcome to Our Service\n",
      "A. Sign Up\n",
      "B. Sign In\n",
      "C. Quit\n",
      "\n",
      ">>3\n"
     ]
    }
   ],
   "source": [
    "import hashlib\n",
    "\n",
    "choice = 0\n",
    "while (choice != 3):\n",
    "    print_message()\n",
    "    choice = int(input(\"\\n>>\"))\n",
    "    identify, pw, name, school = analyze_file()\n",
    "    #print(identify); print(pw); print(name); print(school)\n",
    "    \n",
    "    if choice == 1:\n",
    "        with open('access.txt', 'a') as f:\n",
    "            id_s = ''\n",
    "            while (1):\n",
    "                id_s = input(\"\\nID: \")\n",
    "                if (is_registeredID(id_s, identify) == True and len(identify) > 0):\n",
    "                    print(\"Sorry, the entered ID is already used.\")\n",
    "                else: break\n",
    "            input_pw = input(\"Password: \")\n",
    "            pw_encrypted = hashlib.sha256(input_pw.encode()).hexdigest()\n",
    "            name = input(\"Name: \")\n",
    "            school = input(\"School: \")\n",
    "            f.write(\"{}: {}, {}, {}\\n\".format(id_s, pw_encrypted, name, school))\n",
    "            \n",
    "    elif choice == 2:\n",
    "        while True:\n",
    "            id_s = input(\"\\nID: \")\n",
    "            if (is_registeredID(id_s, identify) == False):\n",
    "                print(\"Sorry, you are not a registered member.\")\n",
    "            else: break\n",
    "        while True:\n",
    "            input_pw = input(\"Password: \")\n",
    "            pw_encrypted = hashlib.sha256(input_pw.encode()).hexdigest()\n",
    "            if (is_rightPW(id_s, pw_encrypted, identify, pw) == False):\n",
    "                print(\"Sorry, the entered password is not correct.\")\n",
    "            else: break\n",
    "        print(\"\\nHello {}!\".format(name[identify.index(id_s)])) \n",
    "        \n",
    "    elif choice == 3:\n",
    "        pass\n",
    "    else:\n",
    "        print(\"Invalid Input\")"
   ]
  },
  {
   "cell_type": "code",
   "execution_count": 12,
   "id": "5d5cee83",
   "metadata": {
    "scrolled": true
   },
   "outputs": [
    {
     "name": "stdout",
     "output_type": "stream",
     "text": [
      "mine1913: a665a45920422f9d417e4867efdc4fb8a04a1f3fff1fa07e998e86f7f7a27ae3, Sumin Bae, Koreatech\n",
      "abc: cb8379ac2098aa165029e3938a51da0bcecfc008fd6795f401178647f96c5b34, efg, hij\n",
      "123: b3a8e0e1f9ab1bfe3a36f231f676f78bb30a519d2b21e6c530c0eee8ebb4a5d0, 789, 012\n",
      "flower: 618d663af0f1ec88a5a19defa65a2f80d06582a832510b12f475d80870bdb3ab, lilac, daisy\n",
      "food: 9ed1515819dec61fd361d5fdabb57f41ecce1a5fe1fe263b98c0d6943b9b232e, chicken, pasta\n",
      "1: d4735e3a265e16eee03f59718b9b5d03019c07d8b6c51f90da3a666eec13ab35, 3, 4\n",
      "\n"
     ]
    }
   ],
   "source": [
    "# 코드 확인용 \n",
    "with open('access.txt', 'r') as f:\n",
    "    print(f.read())  "
   ]
  },
  {
   "cell_type": "markdown",
   "id": "3fde6b6e",
   "metadata": {},
   "source": [
    "### 2번 설명"
   ]
  },
  {
   "cell_type": "markdown",
   "id": "790d7069",
   "metadata": {},
   "source": [
    "* analyze_file() : 4가지 정보를 각각 4가지의 리스트에 넣어 반환하는 함수\n",
    "* is_registeredID(input_id, l) : 입력한 id가 id 리스트에 존재하는지 확인하는 함수\n",
    "* is_rightPW(input_id, input_pw, id_list, pw_list) : 입력한 비밀번호가 비밀번호 리스트 해당 인덱스의 요소랑 동일한지 확인하는 함수  \n",
    "  \n",
    "[A. Sign Up] (1)  \n",
    "이미 존재하지 않는 id가 입력될 때까지 아이디를 계속 입력받고, 비밀번호, 이름, 학교를 입력받고 비밀번호는 암호화하였다. 이를 통해 얻은 4가지 정보를 access.txt에 정해진 양식대로 넣어주어 회원 1명의 정보를 추가하였다.   \n",
    "[B. Sign In] (2)  \n",
    "while문을 통해 access.txt에 추출한 id 리스트에 있는 id가 입력될 때까지 계속 입력받고, 비밀번호도 마찬가지로 id와 같이 저장된 비밀번호가 입력될 때까지 계속 입력받았다. 로그인에 성공할 시 \"Hello [name]!\"를 출력하였다.  \n",
    "[C. Quit] (3)  \n",
    "choice가 3이면 while문이 종료되도록 하여 프로그램 실행이 끝나도록 하였다.  "
   ]
  },
  {
   "cell_type": "markdown",
   "id": "9f68ebd3",
   "metadata": {},
   "source": [
    "_____\n",
    "### 3번"
   ]
  },
  {
   "cell_type": "markdown",
   "id": "2c632cff",
   "metadata": {},
   "source": [
    "range() 함수와 유사한 frange() 함수를 다음 조건을 참고하여 만드시오."
   ]
  },
  {
   "cell_type": "markdown",
   "id": "75ffafb3",
   "metadata": {},
   "source": [
    "* 1) frange()의 인자 구성은 다음과 같이 range와 동일하지만 각 인수들은 음수를 받지 않는다고 가정한다.\n",
    "> range(stop)  \n",
    "range(start, stop [, step])"
   ]
  },
  {
   "cell_type": "markdown",
   "id": "a7ba35fa",
   "metadata": {},
   "source": [
    "* 2) frange() 함수의 인자에 대한 기본 시작(start) 값은 0.0이고, 기본 단계(step) 값은 0.1이다."
   ]
  },
  {
   "cell_type": "code",
   "execution_count": null,
   "id": "2425b5ef",
   "metadata": {},
   "outputs": [],
   "source": [
    "def frange(func):\n",
    "    pass"
   ]
  },
  {
   "cell_type": "markdown",
   "id": "3e74285a",
   "metadata": {},
   "source": [
    "### 4번"
   ]
  },
  {
   "cell_type": "markdown",
   "id": "8ed6937e",
   "metadata": {},
   "source": [
    "가변인수를 받는 함수 sum()을 다음과 같은 조건을 참고하여 구현하시오."
   ]
  },
  {
   "cell_type": "markdown",
   "id": "df983977",
   "metadata": {},
   "source": [
    "> sum()  \n",
    "0\n",
    "\n",
    "> sum(1, 2)  \n",
    "3  \n",
    "\n",
    "> sum(1, 2, 3, 4, 5)  \n",
    "15    \n",
    "\n",
    "> sum(1, 5, 7, 2, -10)  \n",
    "5    \n"
   ]
  },
  {
   "cell_type": "code",
   "execution_count": 3,
   "id": "9647316a",
   "metadata": {},
   "outputs": [
    {
     "name": "stdout",
     "output_type": "stream",
     "text": [
      "0\n",
      "3\n",
      "15\n",
      "5\n"
     ]
    }
   ],
   "source": [
    "def sum(*args):\n",
    "    result = 0\n",
    "    for i in args:\n",
    "        result += i\n",
    "    print(result)\n",
    "\n",
    "# 출력\n",
    "sum()\n",
    "sum(1, 2)\n",
    "sum(1, 2, 3, 4, 5)\n",
    "sum(1, 5, 7, 2, -10)"
   ]
  },
  {
   "cell_type": "markdown",
   "id": "6f998b9c",
   "metadata": {},
   "source": [
    "### 4번 설명"
   ]
  },
  {
   "cell_type": "markdown",
   "id": "fd57ab8b",
   "metadata": {},
   "source": [
    "인수 리스트 args를 통해 원하는 개수의 숫자가 함수 sum의 인자가 될 수 있도록 하였다. 여러 해답이 있겠지만 이 문제는 반복문을 활용하여 최종 반환값 result에 args의 모든 요소를 더해주고 반환하였다."
   ]
  },
  {
   "cell_type": "markdown",
   "id": "3637db1b",
   "metadata": {},
   "source": [
    "_____\n",
    "### 5번"
   ]
  },
  {
   "cell_type": "markdown",
   "id": "9d8ab5bc",
   "metadata": {},
   "source": [
    "여러 단어로 이루어진 문자열을 입력받아 각 단어의 첫글자로 이루어진 단어를 대문자로 출력하는 myinitial() 함수를 다음 조건을 참고하여 작성하시오."
   ]
  },
  {
   "cell_type": "markdown",
   "id": "f615f51b",
   "metadata": {},
   "source": [
    "* 1) 다음에 제시되는 함수들을 모두 이용해야 한다.\n",
    "     * split\n",
    "     * map\n",
    "     * join\n",
    "* 2) myinitial() 함수 사용 예\n",
    "    * myinitial(\"as soon as possible\")\n",
    "        * ASAP"
   ]
  },
  {
   "cell_type": "code",
   "execution_count": 19,
   "id": "b1b2652e",
   "metadata": {},
   "outputs": [
    {
     "name": "stdout",
     "output_type": "stream",
     "text": [
      "ASAP\n",
      "FYI\n",
      "LOL\n"
     ]
    }
   ],
   "source": [
    "def acronyms(s):\n",
    "    s = s.capitalize()\n",
    "    return s[0]\n",
    "\n",
    "def myinitial(s):\n",
    "    words = s.split(' ')\n",
    "    initials = list(map(acronyms, words))\n",
    "    result = ''.join(initials)\n",
    "    return result\n",
    "\n",
    "# 출력\n",
    "print(myinitial(\"as soon as possible\"))\n",
    "print(myinitial(\"for your information\"))\n",
    "print(myinitial(\"laughing out loud\"))"
   ]
  },
  {
   "cell_type": "markdown",
   "id": "d58b9c15",
   "metadata": {},
   "source": [
    "### 5번 설명"
   ]
  },
  {
   "cell_type": "markdown",
   "id": "f1eade61",
   "metadata": {},
   "source": [
    "단어 첫글자만 대문자로 변경하고 추출하기 위해 함수 acronyms를 따로 정의하였다.\n",
    "문자열에 split()을 적용하여 문자열을 구성하는 단어로 이루어진 리스트 words를 만들어주었고, map() 함수를 통해 리스트의 모든 요소에 acronyms가 적용되도록 하였다. 마지막으로 join()으로 리스트의 모든 요소를 문자열로 합쳐주었다. "
   ]
  },
  {
   "cell_type": "markdown",
   "id": "7139f3c6",
   "metadata": {},
   "source": [
    "_____\n",
    "### 6번"
   ]
  },
  {
   "cell_type": "markdown",
   "id": "b097f629",
   "metadata": {},
   "source": [
    "음이 아닌 정수 n을 입력받으면 n! (factorial)을 계산하는 myfact() 함수를 재귀적 함수로 구현하시오."
   ]
  },
  {
   "cell_type": "code",
   "execution_count": 10,
   "id": "9f0bd557",
   "metadata": {},
   "outputs": [
    {
     "name": "stdout",
     "output_type": "stream",
     "text": [
      "0\n",
      "1\n",
      "120\n",
      "93326215443944152681699238856266700490715968264381621468592963895217599993229915608941463976156518286253697920827223758251185210916864000000000000000000000000\n"
     ]
    }
   ],
   "source": [
    "def myfact(n):\n",
    "    if n == 0:\n",
    "        return 0\n",
    "    elif n < 0:\n",
    "        print(\"*Invalid Input*\")\n",
    "        return -1\n",
    "    elif n > 1:\n",
    "        return n * myfact(n-1)\n",
    "    else:\n",
    "        return 1\n",
    "\n",
    "# 출력\n",
    "print(myfact(0))\n",
    "print(myfact(1))\n",
    "print(myfact(5))\n",
    "print(myfact(100))\n",
    "#print(myfact(1000))"
   ]
  },
  {
   "cell_type": "markdown",
   "id": "f6edbbb8",
   "metadata": {},
   "source": [
    "### 6번 설명"
   ]
  },
  {
   "cell_type": "markdown",
   "id": "fee30b28",
   "metadata": {},
   "source": [
    "함수가 더 안정적으로 작동되도록 n이 음수, 0, 1, 1보다 큰 양수일 경우에 대해 다르게 구현하였다. n이 0, 1일 때 n!은 자기자신이므로 그대로 반환하였고, n이 양수일 때 재귀를 활용하여 n 이하의 모든 정수가 팩토리얼 계산에 참여할 수 있도록 하였다."
   ]
  },
  {
   "cell_type": "markdown",
   "id": "82d19c2c",
   "metadata": {},
   "source": [
    "_____\n",
    "### 7번"
   ]
  },
  {
   "cell_type": "markdown",
   "id": "d50d369d",
   "metadata": {},
   "source": [
    "import string과 from string import * 의 차이점을 설명하시오."
   ]
  },
  {
   "cell_type": "markdown",
   "id": "b5af1966",
   "metadata": {},
   "source": [
    "> ' from string import * '은 string 모듈로부터 모두 불러온다는 의미로, string 모듈 안 함수를 사용하려면 모듈명 붙일 필요 없이 함수명만 사용하면 된다. 이때 불러온 모듈 속 함수와 이름이 같은 함수가 존재한다면 기존의 함수를 덮어쓴다는 문제가 발생한다.   \n",
    "반면에 ' import string '은 string 모듈 전체를 가져온다는 의미로, string 모듈 안 함수를 사용하려면 항상 **string.함수명()** 형태로 코드를 작성해야한다."
   ]
  },
  {
   "cell_type": "markdown",
   "id": "240dd539",
   "metadata": {},
   "source": [
    "_____\n",
    "# Incremental Project"
   ]
  },
  {
   "cell_type": "markdown",
   "id": "cc0a2594",
   "metadata": {},
   "source": [
    "1) 이전 숙제에서 구성했던 단어 사전에서 불용어들을 모두 제거하는 코드를 추가하시오."
   ]
  },
  {
   "cell_type": "code",
   "execution_count": 20,
   "id": "634aabc0",
   "metadata": {},
   "outputs": [
    {
     "name": "stderr",
     "output_type": "stream",
     "text": [
      "C:\\Users\\tnals\\anaconda3\\lib\\site-packages\\urllib3\\connectionpool.py:1013: InsecureRequestWarning: Unverified HTTPS request is being made to host 'cse.koreatech.ac.kr'. Adding certificate verification is strongly advised. See: https://urllib3.readthedocs.io/en/latest/advanced-usage.html#ssl-warnings\n",
      "  warnings.warn(\n"
     ]
    }
   ],
   "source": [
    "import requests\n",
    "\n",
    "#req1 = requests.get('http://cse.koreatech.ac.kr')\n",
    "req1 = requests.get('https://cse.koreatech.ac.kr/', verify=False)\n",
    "req2 = requests.get('https://www.koreatech.ac.kr')\n",
    "req3 = requests.get('http://www.naver.com')\n",
    "req4 = requests.get('http://www.daum.net')\n",
    "req5 = requests.get('http://www.nytimes.com')\n",
    "req6 = requests.get('https://dorm.koreatech.ac.kr/')\n",
    "req7 = requests.get('https://hanpyo.com/')\n",
    "\n",
    "source1 = req1.text\n",
    "source2 = req2.text\n",
    "source3 = req3.text\n",
    "source4 = req4.text\n",
    "source5 = req5.text\n",
    "source6 = req6.text\n",
    "source7 = req7.text\n",
    "\n",
    "#print(source1)\n",
    "#print(source2)\n",
    "#print(source3)\n",
    "#print(source4)\n",
    "#print(source5)\n",
    "#print(source6)\n",
    "#print(source7)"
   ]
  },
  {
   "cell_type": "code",
   "execution_count": 21,
   "id": "ad356893",
   "metadata": {},
   "outputs": [],
   "source": [
    "tag_list = ['<head>', '</head>', '<script', '</script>', '<style>', '</style>', '<url>', '</url>']\n",
    "\n",
    "def delete_tag_content(s, tags, tage):\n",
    "    source_tmp = s.split(tags)\n",
    "    source = []\n",
    "    for i in source_tmp:\n",
    "        if tage in i:\n",
    "            #i = i[i.find(tage)+len(tage)-1:]\n",
    "            i = i[i.find(tage)+len(tage):]\n",
    "            #if (i != '>'):\n",
    "                #source.append(i)\n",
    "            source.append(i)\n",
    "        else:\n",
    "            source.append(i)\n",
    "    source = ''.join(source)\n",
    "    return source"
   ]
  },
  {
   "cell_type": "code",
   "execution_count": 22,
   "id": "12b98dc6",
   "metadata": {},
   "outputs": [],
   "source": [
    "def modify_source(s):\n",
    "    for i in range(0, len(tag_list), 2):\n",
    "        if tag_list[i] in s:\n",
    "            s = delete_tag_content(s, tag_list[i], tag_list[i+1])\n",
    "    return s     "
   ]
  },
  {
   "cell_type": "code",
   "execution_count": 23,
   "id": "6e26727b",
   "metadata": {},
   "outputs": [],
   "source": [
    "def delete_html(s):\n",
    "    text = s.split('>')\n",
    "    pure_text = []\n",
    "    #if \n",
    "    for i in text:\n",
    "        if '<' in i:\n",
    "            i = i[:i.find('<')]\n",
    "        if '._' in i:\n",
    "            i = i[:i.find('._')]\n",
    "        if no_blank(i) != '':\n",
    "            pure_text.append(no_blank(i))\n",
    "    return pure_text"
   ]
  },
  {
   "cell_type": "code",
   "execution_count": 24,
   "id": "c381f516",
   "metadata": {},
   "outputs": [],
   "source": [
    "# \\r\\n\\t 제거\n",
    "def no_blank(s):\n",
    "    pure = ''\n",
    "    final_pure = ''\n",
    "    for i in s:\n",
    "        if i not in '\\r\\n\\t':\n",
    "            pure = pure + i\n",
    "        final_pure = pure.strip()\n",
    "    return final_pure"
   ]
  },
  {
   "cell_type": "code",
   "execution_count": 25,
   "id": "d2b2e4ed",
   "metadata": {},
   "outputs": [],
   "source": [
    "import string\n",
    "punc = string.punctuation\n",
    "punc = punc + '“”'\n",
    "#print(punc)\n",
    "\n",
    "def just_words(lst):\n",
    "    final_text = []\n",
    "    final = ''\n",
    "    for i in lst:\n",
    "        text = ''\n",
    "        for j in i:\n",
    "            if j not in punc:\n",
    "                text = text + j\n",
    "        final = text\n",
    "        if final != '':\n",
    "            for k in final.split():\n",
    "                final_text.append(k)\n",
    "\n",
    "    return final_text"
   ]
  },
  {
   "cell_type": "code",
   "execution_count": 26,
   "id": "c3734b93",
   "metadata": {},
   "outputs": [],
   "source": [
    "pure1 = delete_html(modify_source(source1))\n",
    "pure2 = delete_html(modify_source(source2))\n",
    "pure3 = delete_html(modify_source(source3))\n",
    "pure4 = delete_html(modify_source(source4))\n",
    "pure5 = delete_html(modify_source(source5))"
   ]
  },
  {
   "cell_type": "code",
   "execution_count": 27,
   "id": "0e50dcf6",
   "metadata": {},
   "outputs": [],
   "source": [
    "def save_dict(lst):\n",
    "    word_dict = {}\n",
    "    for i in lst:\n",
    "        if word_dict.get(i) == None:\n",
    "            word_dict[i] = 1\n",
    "        else:\n",
    "            word_dict[i] = word_dict[i] + 1\n",
    "    return word_dict"
   ]
  },
  {
   "cell_type": "code",
   "execution_count": 28,
   "id": "7da7b61d",
   "metadata": {},
   "outputs": [],
   "source": [
    "def word_count(word):\n",
    "    count = 0\n",
    "    for i in word:\n",
    "        count += word[i]\n",
    "    return count"
   ]
  },
  {
   "cell_type": "code",
   "execution_count": 32,
   "id": "5b128819",
   "metadata": {},
   "outputs": [
    {
     "name": "stdout",
     "output_type": "stream",
     "text": [
      "408\n",
      "816\n",
      "4289\n",
      "942\n",
      "3025\n"
     ]
    }
   ],
   "source": [
    "word1 = save_dict(just_words(pure1))\n",
    "word2 = save_dict(just_words(pure2))\n",
    "word3 = save_dict(just_words(pure3))\n",
    "word4 = save_dict(just_words(pure4))\n",
    "word5 = save_dict(just_words(pure5))\n",
    "\n",
    "#print(word1)\n",
    "#print(word2)\n",
    "#print(word3)\n",
    "#print(word4)\n",
    "#print(word5)\n",
    "\n",
    "print(word_count(word1))\n",
    "print(word_count(word2))\n",
    "print(word_count(word3))\n",
    "print(word_count(word4))\n",
    "print(word_count(word5))"
   ]
  },
  {
   "cell_type": "markdown",
   "id": "417d107b",
   "metadata": {},
   "source": [
    "_____\n",
    "# 소감"
   ]
  },
  {
   "cell_type": "markdown",
   "id": "9069e188",
   "metadata": {},
   "source": [
    "* 이 과제를 통해 텍스트 파일을 활용하는 것이 전보다 더 익숙해졌다는 것이 느껴졌다. 하지만 데코레이터의 개념을 아직 완벽히 이해하지 못한 것이 아쉬웠고, 이 부분은 개인적으로 추가적인 학습이 필요하다고 생각이 들었다."
   ]
  }
 ],
 "metadata": {
  "kernelspec": {
   "display_name": "Python 3",
   "language": "python",
   "name": "python3"
  },
  "language_info": {
   "codemirror_mode": {
    "name": "ipython",
    "version": 3
   },
   "file_extension": ".py",
   "mimetype": "text/x-python",
   "name": "python",
   "nbconvert_exporter": "python",
   "pygments_lexer": "ipython3",
   "version": "3.8.8"
  }
 },
 "nbformat": 4,
 "nbformat_minor": 5
}
