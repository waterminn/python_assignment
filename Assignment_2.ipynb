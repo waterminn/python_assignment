{
 "cells": [
  {
   "cell_type": "markdown",
   "id": "9184d30e",
   "metadata": {},
   "source": [
    "#### 2020136060 배수민"
   ]
  },
  {
   "cell_type": "markdown",
   "id": "843976dd",
   "metadata": {},
   "source": [
    "# 일반 문제"
   ]
  },
  {
   "cell_type": "markdown",
   "id": "8a9c1a2b",
   "metadata": {},
   "source": [
    "### 1번"
   ]
  },
  {
   "cell_type": "markdown",
   "id": "43e88e06",
   "metadata": {},
   "source": [
    "다음 6개의 Expression에 대해 Evaluation 결과 값을 출력하고, 해당 결과가 나온 이유에 대해 설명하시오.\n",
    "* 1 and 2 and 3 and 4  \n",
    "* 1 or 2 or 3 or 4  \n",
    "* 1 and 2 or 3 and 4\n",
    "* (1 and 2) or (3 and 4)\n",
    "* 1 or 2 and 3 or 4\n",
    "* (1 or 2) and (3 or 4)"
   ]
  },
  {
   "cell_type": "code",
   "execution_count": 1,
   "id": "c2440817",
   "metadata": {},
   "outputs": [
    {
     "name": "stdout",
     "output_type": "stream",
     "text": [
      "4 1 2 2 1 3 "
     ]
    }
   ],
   "source": [
    "print(1 and 2 and 3 and 4, end=' ')\n",
    "print(1 or 2 or 3 or 4, end=' ')\n",
    "print(1 and 2 or 3 and 4, end=' ')\n",
    "print((1 and 2) or (3 and 4), end=' ')\n",
    "print(1 or 2 and 3 or 4, end=' ')\n",
    "print((1 or 2) and (3 or 4), end=' ')"
   ]
  },
  {
   "cell_type": "markdown",
   "id": "0bf81718",
   "metadata": {},
   "source": [
    "### 결과에 대한 이유"
   ]
  },
  {
   "cell_type": "markdown",
   "id": "bcacbbd9",
   "metadata": {},
   "source": [
    "숫자 n을 원소 1이 n개 있는 집합이라고 생각하고,    \n",
    "and는 합집합, or는 교집합에 대응한다는 점을 유념하고 예를 들어보자면,    \n",
    "'1 or 3'은 집합 1, 3의 겹치는 부분이고 이는 원소 1 하나이다. 따라서 1 or 3은 더 작은 숫자인 1이다.  \n",
    "반대로 '1 and 3'은 집합 1과 3의 합이고 이는 원소 1 세 개, 즉 더 큰 숫자인 3에 해당한다.  \n",
    "위의 예에 따르면 두 숫자에 and와 or를 사용한다면 and는 더 큰 숫자, or는 더 작은 숫자를 결과로 내놓는다. 따라서 결과는 위의 코드의 출력처럼 나온다.\n",
    "****"
   ]
  },
  {
   "cell_type": "markdown",
   "id": "b5dfadd7",
   "metadata": {},
   "source": [
    "### 2번 "
   ]
  },
  {
   "cell_type": "markdown",
   "id": "65a60665",
   "metadata": {},
   "source": [
    "경로에 해당하는 문자열 1개를 입력 받아 그 안에 디렉토리 경로명과 파일명을 분리하여 리스트로 반환하는 함수 div_path(s)를 작성하시오.\n",
    "* 인자로 전달하는 문자열은 경로만 들어간다고 가정한다.\n",
    "* 각 디렉토리와 파일을 구분하는 문자는 '/'로 가정한다.\n",
    "* 반환하는 리스트의 첫번째 원소는 디렉토리이고 두번째 원소는 파일명이다.\n",
    "* 다음과 같은 실행 및 출력 결과가 도출되어야 한다.\n",
    "    * div_path('/usr/local/bin/python')\n",
    "        * ['/usr/local/bin','python']  \n",
    "    * div_path('/home/chulsoo/test.txt') \n",
    "        * ['/home/chulsoo', 'test.txt']  \n",
    "* [참고] 리스트(l) 내에 새로운 정수값 (예를 들어 10)을 넣는 방법은 l.append(10) 이다."
   ]
  },
  {
   "cell_type": "code",
   "execution_count": 2,
   "id": "b08df344",
   "metadata": {},
   "outputs": [
    {
     "name": "stdout",
     "output_type": "stream",
     "text": [
      "['/usr/local/bin', 'python'] \n",
      "\n",
      "['/home/chulsoo', 'test.txt'] \n",
      "\n",
      "['/usr/sumin/script_assignment', 'assignment2.ipynb']\n"
     ]
    }
   ],
   "source": [
    "def div_path(s):\n",
    "    div_index = s.rfind('/')\n",
    "    dir_list = []\n",
    "    \n",
    "    dir_list.append(s[:div_index])\n",
    "    dir_list.append(s[(div_index+1):])\n",
    "    \n",
    "    return dir_list\n",
    "\n",
    "print(div_path('/usr/local/bin/python'), '\\n')\n",
    "print(div_path('/home/chulsoo/test.txt'), '\\n')\n",
    "print(div_path('/usr/sumin/script_assignment/assignment2.ipynb'))"
   ]
  },
  {
   "cell_type": "markdown",
   "id": "fd604515",
   "metadata": {},
   "source": [
    "### 2번 설명"
   ]
  },
  {
   "cell_type": "markdown",
   "id": "489af649",
   "metadata": {},
   "source": [
    "파일명은 경로의 문자들을 '/'로 분리했을 때 **마지막 섹션**에 위치한다. 따라서 문자열 끝에서부터 검색하는 함수인 rfind()를 이용하면 파일명 앞에 위치한 '/'의 인덱스를 얻을 수 있다.  \n",
    "해당 인덱스를 기준으로 문자열 s를 슬라이싱하여 리스트에 넣으면 리스트의 첫번째 원소는 디렉토리, 두번째 원소는 파일명이 된다. 이때 파일명 앞 '/'를 제거하기 위해 슬라이싱 시작 인덱스는 ('/'의 인덱스 + 1)로 한다.\n",
    "***"
   ]
  },
  {
   "cell_type": "markdown",
   "id": "a85a5370",
   "metadata": {},
   "source": [
    "### 3번"
   ]
  },
  {
   "cell_type": "markdown",
   "id": "02a943cc",
   "metadata": {},
   "source": [
    "두 개의 리스트를 인자로 받아서 그 두 개의 리스트에 대한 '합집합'을 반환하는 함수 list_union(lista, listb)를 작성하시오.\n",
    "* **집합 자료형 set은 사용하지 않는다.**\n",
    "* 인자로 전달하는 리스트 2 개에는 정수값만 들어간다고 가정하자.\n",
    "* 함수 내에서 새로운 리스트를 만들어 그 리스트 내에 인자로 받은 두 리스트의 모든 원소를 넣어 반환한다.\n",
    "* 반환하는 리스트에는 절대로 중복된 원소가 들어 있으면 안된다 (집합의 조건).\n",
    "* 반환하는 리스트는 정렬이 되어 있어야 한다.\n",
    "* 다음과 같은 실행 및 출력 결과가 도출되어야 한다.\n",
    "    * list_union([1, 2, 3], [1, 2, 4])\n",
    "        * [1, 2, 3, 4]\n",
    "    * list_union([-10, -5, 0, -1], [100, 9, 0, 9])\n",
    "        * [-10, -5, -1, 0, 9, 100]\n",
    "    * list_union([0, 1, 2], [0, 1, 2])\n",
    "        * [0, 1, 2]\n",
    "* [참고] 리스트(l) 내에 새로운 정수값 (예를 들어 10)을 넣는 방법은 l.append(10) 이다.\n",
    "* [참고] 임의의 정수값 (x)이 리스트 (l) 내에 존재하는지 판단하는 방법은 x in l 이다."
   ]
  },
  {
   "cell_type": "code",
   "execution_count": 3,
   "id": "7f5ff99b",
   "metadata": {
    "scrolled": true
   },
   "outputs": [
    {
     "name": "stdout",
     "output_type": "stream",
     "text": [
      "[1, 2, 3, 4] \n",
      "\n",
      "[-10, -5, -1, 0, 9, 100] \n",
      "\n",
      "[0, 1, 2] \n",
      "\n",
      "[1] \n",
      "\n",
      "[1, 2, 3, 4] \n",
      "\n",
      "[1, 2] \n",
      "\n"
     ]
    }
   ],
   "source": [
    "def list_union(lista, listb):\n",
    "    union = []\n",
    "    i = 0\n",
    "    \n",
    "    if (lista == listb):\n",
    "        union = lista[:]\n",
    "    else:\n",
    "        union = lista + listb\n",
    "    while True:\n",
    "        if (i >= len(union)):\n",
    "            break\n",
    "        else:\n",
    "            num_value = union.count(union[i])\n",
    "            if (num_value > 1):\n",
    "                union.remove(union[i])\n",
    "            else:\n",
    "                i += 1\n",
    "                \n",
    "    union = sorted(union)\n",
    "    return union\n",
    "\n",
    "print(list_union([1, 2, 3], [1, 2, 4]), '\\n')\n",
    "print(list_union([-10, -5, 0, -1], [100, 9, 0, 9]), '\\n')\n",
    "print(list_union([0, 1, 2], [0, 1, 2]), '\\n')\n",
    "print(list_union([1, 1, 1], [1, 1, 1]), '\\n')\n",
    "print(list_union([1, 2, 3, 4], [4, 3, 2]), '\\n')\n",
    "print(list_union([1, 1, 1, 1], [2, 2, 2]), '\\n')"
   ]
  },
  {
   "cell_type": "markdown",
   "id": "329a6d5f",
   "metadata": {},
   "source": [
    "### 3번 설명"
   ]
  },
  {
   "cell_type": "markdown",
   "id": "24b6c80e",
   "metadata": {},
   "source": [
    "두 개의 리스트를 합치고, 중복되는 숫자를 제거하는 방식으로 해결하였다.  \n",
    "1. 먼저 두 리스트가 같은지 확인하였다. 같을 시 두 리스트 중 아무 리스트의 전체 항목을 복사하여 합집합 리스트를 설정해주었고, 두 리스트가 다를 시 합집합은 두 리스트를 합친 값으로 설정해주었다.  \n",
    "2. 합집합 리스트에 들어있는 중복된 원소를 없애기 위해 count 메서드를 이용해 각 원소의 개수를 구하고, 그 값이 1보다 클 때 i번째 요소를 삭제하도록 하였다.  \n",
    "3. 최종적으로 나온 합집합 리스트를 sorted 메서드로 정렬하고 반환하였다.  \n",
    "***"
   ]
  },
  {
   "cell_type": "markdown",
   "id": "7af59967",
   "metadata": {},
   "source": [
    "### 4번"
   ]
  },
  {
   "cell_type": "markdown",
   "id": "08a0fd21",
   "metadata": {},
   "source": [
    "두 개의 리스트를 인자로 받아서 그 두 개의 리스트에 대한 '교집합'을 반환하는 함수 list_intersection(lista, listb)와 '차집합'을 반환하는 함수 list_difference(lista, listb)를 작성하시오.\n",
    "* 모든 가정과 조건은 3번 문제와 동일하다."
   ]
  },
  {
   "cell_type": "code",
   "execution_count": 4,
   "id": "ab15c893",
   "metadata": {},
   "outputs": [
    {
     "name": "stdout",
     "output_type": "stream",
     "text": [
      "intersection\n",
      "\n",
      "[1, 2]\n",
      "[0]\n",
      "[0, 1, 2]\n",
      "[1, 2]\n",
      "[1]\n",
      "\n",
      "difference\n",
      "\n",
      "[3]\n",
      "[-10, -5, -1]\n",
      "[]\n",
      "[2, 3, 4]\n",
      "[]\n"
     ]
    }
   ],
   "source": [
    "def list_intersection(lista, listb):\n",
    "    inter = []\n",
    "    \n",
    "    if (lista == listb):\n",
    "        inter = lista[:]\n",
    "    else:\n",
    "        for i in lista:\n",
    "            if i in listb:\n",
    "                inter.append(i)\n",
    "        a = 0\n",
    "        while True:\n",
    "            if (a >= len(inter)):\n",
    "                break\n",
    "            else:\n",
    "                num_value = inter.count(inter[a])\n",
    "                while (num_value > 1):\n",
    "                    inter.remove(inter[a])\n",
    "                    num_value -= 1\n",
    "                a += 1\n",
    "      \n",
    "    inter = sorted(inter)  \n",
    "    return inter\n",
    "    \n",
    "def list_difference(lista, listb):\n",
    "    differ = lista[:]\n",
    "    inter = list_intersection(lista, listb)\n",
    "    \n",
    "    for i in inter:\n",
    "        for j in lista:\n",
    "            if (i == j):\n",
    "                differ.remove(j)\n",
    "\n",
    "    differ.sort()\n",
    "    return differ\n",
    "           \n",
    "print(\"intersection\\n\")\n",
    "print(list_intersection([1, 2, 3], [1, 2, 4]))\n",
    "print(list_intersection([-10, -5, 0, -1], [100, 9, 0, 9]))\n",
    "print(list_intersection([0, 1, 2], [0, 1, 2]))\n",
    "print(list_intersection([4, 2, 2, 1], [2, 1, 1, 1, 1]))\n",
    "print(list_intersection([1, 1, 1, 1], [4, 3, 2, 1]))    \n",
    "\n",
    "print('\\ndifference\\n')\n",
    "print(list_difference([1, 2, 3], [1, 2, 4]))\n",
    "print(list_difference([-10, -5, 0, -1], [100, 9, 0, 9]))\n",
    "print(list_difference([0, 1, 2], [0, 1, 2]))\n",
    "print(list_difference([4, 3, 2, 1], [1, 1, 1, 1, 1]))\n",
    "print(list_difference([2, 2, 2], [2, 2, 1, 1, 1]))"
   ]
  },
  {
   "cell_type": "markdown",
   "id": "c5816b11",
   "metadata": {},
   "source": [
    "### 4번 설명"
   ]
  },
  {
   "cell_type": "markdown",
   "id": "9a84c243",
   "metadata": {},
   "source": [
    "[교집합]  \n",
    "1. 먼저 두 리스트가 같은지 확인하였다. 같을 시 두 리스트 중 아무 리스트의 전체 항목을 복사하여 교집합 리스트를 설정해주었고\n",
    "2. 다를 시 lista와 listb의 각 요소를 비교하여 lista의 요소가 listb에 존재할 때, 교집합 inter에 해당 요소를 추가하였다.\n",
    "3. 3번 문제와 똑같이 count 메서드를 이용하여 교집합 리스트 내의 중복되는 요소를 제거하였다.\n",
    "4. 최종적으로 나온 교집합 리스트를 정렬하고 반환하였다.\n",
    "  \n",
    "[차집합]\n",
    "1. lista - listb 이므로 lista의 전체 항목을 복사하여 차집합 differ를 설정해주었다.\n",
    "2. 차집합은 lista - (lista or listb)와 같다. 따라서 교집합 함수를 바탕으로 교집합 변수를 생성하였다.\n",
    "3. 이중 for 반복문을 통해 차집합, 교집합 내의 원소를 비교한 후 원소의 값이 같을 시 차집합 리스트에서 그 원소를 제거하였다.\n",
    "4. 최종적으로 나온 차집합 리스트를 정렬하고 반환하였다.\n",
    "***"
   ]
  },
  {
   "cell_type": "markdown",
   "id": "d43f8d79",
   "metadata": {},
   "source": [
    "### 5번"
   ]
  },
  {
   "cell_type": "markdown",
   "id": "07ce223b",
   "metadata": {},
   "source": [
    "두 개의 양의 정수를 인자로 받아서 해당 범위안에 있는 소수(prime number)의 리스트를 출력하는 함수 print_primenumber(a, b)를 작성하시오.\n",
    "* 이미 구현된 모듈이나 라이브러리는 사용하지 않는다.\n",
    "* 함수의 반환(return)은 없으며 함수 내의 끝에서 .format()을 사용하여 다음과 같이 출력한다.\n",
    "    * print_primenumber(2, 10)\n",
    "        * 2 이상 10 이하 정수 중 소수 리스트: [2, 3, 5, 7]"
   ]
  },
  {
   "cell_type": "code",
   "execution_count": 5,
   "id": "8c9a3df5",
   "metadata": {},
   "outputs": [
    {
     "name": "stdout",
     "output_type": "stream",
     "text": [
      "2 이상 10 이하 정수 중 소수 리스트: [2, 3, 5, 7]\n",
      "1 이상 20 이하 정수 중 소수 리스트: [2, 3, 5, 7, 11, 13, 17, 19]\n",
      "11 이상 20 이하 정수 중 소수 리스트: [11, 13, 17, 19]\n",
      "1 이상 100 이하 정수 중 소수 리스트: [2, 3, 5, 7, 11, 13, 17, 19, 23, 29, 31, 37, 41, 43, 47, 53, 59, 61, 67, 71, 73, 79, 83, 89, 97]\n",
      "20 이상 100 이하 정수 중 소수 리스트: [23, 29, 31, 37, 41, 43, 47, 53, 59, 61, 67, 71, 73, 79, 83, 89, 97]\n"
     ]
    }
   ],
   "source": [
    "def print_primenumber(a, b):\n",
    "    prime = []\n",
    "    for i in range(2, b+1):\n",
    "        prime.append(i)\n",
    "    \n",
    "    i = 0\n",
    "    while True:\n",
    "        if (i >= len(prime)):\n",
    "            break\n",
    "        for j in range(prime[i]+prime[i], prime[-1]+1, prime[i]):\n",
    "            if j in prime:\n",
    "                prime.remove(j)\n",
    "        i += 1\n",
    "    \n",
    "    for k in range(a, prime[-1]):\n",
    "        if k in prime:\n",
    "            index = prime.index(k)\n",
    "            prime = prime[index:]\n",
    "            break\n",
    "\n",
    "    print(\"{} 이상 {} 이하 정수 중 소수 리스트: {}\".format(a, b, prime))\n",
    "\n",
    "print_primenumber(2, 10)\n",
    "print_primenumber(1, 20)\n",
    "print_primenumber(11, 20)\n",
    "print_primenumber(1, 100)\n",
    "print_primenumber(20, 100)"
   ]
  },
  {
   "cell_type": "markdown",
   "id": "551f8b0a",
   "metadata": {},
   "source": [
    "### 5번 설명"
   ]
  },
  {
   "cell_type": "markdown",
   "id": "599d03ff",
   "metadata": {},
   "source": [
    "에라토스테네스의 체를 활용하여 2부터 b까지의 모든 정수를 리스트에 넣은 후, range를 활용하여 순서대로 자기 자신을 제외한 n의 배수를 모두 지웠다. 이 과정까지 거치면 2부터 b까지의 소수가 리스트에 남는다.  \n",
    "이 문제에서는 a와 b 사이의 소수를 구해야하므로 a와 가장 가까운 소수를 찾아 그 소수 미만의 소수를 슬라이싱을 통해 제거한 다음, format()을 사용하여 문제에서 주어진 양식대로 출력한다.\n",
    "***"
   ]
  },
  {
   "cell_type": "markdown",
   "id": "c519ad6b",
   "metadata": {},
   "source": [
    "# Incremental Project"
   ]
  },
  {
   "cell_type": "markdown",
   "id": "b3c2297a",
   "metadata": {},
   "source": [
    "웹 URL로 지정된 웹페이지를 문자열로 가져와   \n",
    "1) 모든 HTML 태그를 제외한 순수 텍스트 문자열만을 걸러내고,   \n",
    "2) 그 순수 텍스트 문자열 안에 존재하는 단어가 총 몇개인지 \n",
    "\n",
    "출력하는 프로그램을 작성하시오.  "
   ]
  },
  {
   "cell_type": "code",
   "execution_count": 6,
   "id": "50555063",
   "metadata": {},
   "outputs": [
    {
     "name": "stderr",
     "output_type": "stream",
     "text": [
      "C:\\Users\\tnals\\anaconda3\\lib\\site-packages\\urllib3\\connectionpool.py:1013: InsecureRequestWarning: Unverified HTTPS request is being made to host 'cse.koreatech.ac.kr'. Adding certificate verification is strongly advised. See: https://urllib3.readthedocs.io/en/latest/advanced-usage.html#ssl-warnings\n",
      "  warnings.warn(\n"
     ]
    }
   ],
   "source": [
    "import requests\n",
    "\n",
    "req1 = requests.get('https://cse.koreatech.ac.kr/', verify=False)\n",
    "#req1 = requests.get('https://dorm.koreatech.ac.kr/')\n",
    "req2 = requests.get('https://el.koreatech.ac.kr/ilos/main/main_form.acl')\n",
    "\n",
    "source1 = req1.text\n",
    "source2 = req2.text\n",
    "\n",
    "#print(source1)\n",
    "#print(source2)"
   ]
  },
  {
   "cell_type": "code",
   "execution_count": 7,
   "id": "5d1e2dc9",
   "metadata": {},
   "outputs": [],
   "source": [
    "def findRightBracket(s):\n",
    "    closing = []\n",
    "    \n",
    "    i = -1\n",
    "    while True:\n",
    "        i = s.find('>', i+1)\n",
    "        closing.append(i)\n",
    "        if i == -1:  break   \n",
    "    closing.pop()\n",
    "    \n",
    "    return closing"
   ]
  },
  {
   "cell_type": "code",
   "execution_count": 8,
   "id": "24a9215a",
   "metadata": {},
   "outputs": [],
   "source": [
    "tag_list = ['<head>', '</head>', '<script', '</script>', '<style>', '</style>']\n",
    "\n",
    "def find_tag(s, tag):\n",
    "    index = -1\n",
    "    tag_index = []\n",
    "    while True:\n",
    "        index = s.find(tag, index+1)\n",
    "        tag_index.append(index)\n",
    "\n",
    "        if index == -1:     break\n",
    "    tag_index.pop()\n",
    "\n",
    "    return tag_index"
   ]
  },
  {
   "cell_type": "code",
   "execution_count": 9,
   "id": "6e0dc489",
   "metadata": {},
   "outputs": [],
   "source": [
    "def delete_tag_content(s, tags, tage):\n",
    "    start = find_tag(s, tags)\n",
    "    end = find_tag(s, tage)\n",
    "\n",
    "    source_tmp = [s[:start[0]]]\n",
    "    for i in range(len(start)):\n",
    "        if i == len(start) - 1:\n",
    "            source_tmp.append(s[end[i]:])\n",
    "        else:\n",
    "            source_tmp.append(s[end[i]:start[i + 1]])\n",
    "\n",
    "    source_notag = ''\n",
    "    for i in range(len(source_tmp)):\n",
    "        source_notag = source_notag + source_tmp[i]\n",
    "\n",
    "    return source_notag"
   ]
  },
  {
   "cell_type": "code",
   "execution_count": 10,
   "id": "3177d86b",
   "metadata": {},
   "outputs": [],
   "source": [
    "def modify_source(s):\n",
    "    if '</script>' in s:\n",
    "        if '</style>' in s:\n",
    "            for i in range(0, len(tag_list), 2):\n",
    "                s = delete_tag_content(s, tag_list[i], tag_list[i+1])\n",
    "        else:\n",
    "            for i in range(0, 3, 2):\n",
    "                s = delete_tag_content(s, tag_list[i], tag_list[i+1])\n",
    "    elif '</style>' in source:\n",
    "        for i in range(0, len(tag_list), 4):\n",
    "            s = delete_tag_content(s, tag_list[i], tag_list[i+1])\n",
    "    \n",
    "    return s"
   ]
  },
  {
   "cell_type": "code",
   "execution_count": 11,
   "id": "679b24f0",
   "metadata": {},
   "outputs": [],
   "source": [
    "def delete_html(s):\n",
    "    right_angle = findRightBracket(s)\n",
    "    text = []\n",
    "    pure_text = []\n",
    "\n",
    "    for i in range(len(right_angle)):\n",
    "        if (i == len(right_angle) - 1):\n",
    "            text_t = s[right_angle[i]:]\n",
    "        else:\n",
    "            text_t = s[right_angle[i]:right_angle[i+1]]\n",
    "        text.append(text_t)\n",
    "\n",
    "    for i in range(len(text)):\n",
    "        deleted = text[i]\n",
    "        script = deleted.find('<')\n",
    "    \n",
    "        nearly_pure = deleted[:script]\n",
    "        pure = ''\n",
    "        for j in nearly_pure:\n",
    "            if j not in '>\\n\\t':\n",
    "                pure = pure + j\n",
    "            final_pure = pure.strip()   \n",
    "        pure_text.append(final_pure)\n",
    "\n",
    "    i = 0\n",
    "    while (i < len(pure_text)):\n",
    "        if (pure_text[i] == '' or pure_text[i] == '-'):\n",
    "            pure_text.remove(pure_text[i])\n",
    "        else:\n",
    "            i += 1\n",
    "\n",
    "    return pure_text"
   ]
  },
  {
   "cell_type": "code",
   "execution_count": 12,
   "id": "8d9a259b",
   "metadata": {},
   "outputs": [],
   "source": [
    "def print_deleted_html(text):\n",
    "    pure = text\n",
    "    for i in pure:\n",
    "        print(i, end=\"    \")"
   ]
  },
  {
   "cell_type": "code",
   "execution_count": 13,
   "id": "c7086e48",
   "metadata": {},
   "outputs": [],
   "source": [
    "def word_count(pure):\n",
    "    count = 0\n",
    "    for i in pure:\n",
    "        word_list = i.split()\n",
    "        #print(word_list)\n",
    "        count += len(word_list)\n",
    "    \n",
    "    return count"
   ]
  },
  {
   "cell_type": "code",
   "execution_count": 14,
   "id": "920873c3",
   "metadata": {},
   "outputs": [],
   "source": [
    "pure_text1 = delete_html(modify_source(source1))\n",
    "pure_text2 = delete_html(modify_source(source2))"
   ]
  },
  {
   "cell_type": "code",
   "execution_count": 15,
   "id": "31bcdba3",
   "metadata": {
    "scrolled": false
   },
   "outputs": [],
   "source": [
    "#print_deleted_html(pure_text1)\n",
    "#print_deleted_html(pure_text2)"
   ]
  },
  {
   "cell_type": "code",
   "execution_count": 16,
   "id": "0695e9d3",
   "metadata": {},
   "outputs": [
    {
     "name": "stdout",
     "output_type": "stream",
     "text": [
      "req1 의 순수 텍스트 문자열 안에 존재하는 단어 개수: 406\n",
      "req2 의 순수 텍스트 문자열 안에 존재하는 단어 개수: 133\n"
     ]
    }
   ],
   "source": [
    "print(\"{} 의 순수 텍스트 문자열 안에 존재하는 단어 개수: {}\".format('req1', word_count(pure_text1)))\n",
    "print(\"{} 의 순수 텍스트 문자열 안에 존재하는 단어 개수: {}\".format('req2', word_count(pure_text2)))"
   ]
  },
  {
   "cell_type": "markdown",
   "id": "1f524d35",
   "metadata": {},
   "source": [
    "### Incremental Project 설명"
   ]
  },
  {
   "cell_type": "markdown",
   "id": "0ec2d606",
   "metadata": {},
   "source": [
    "> *In [6] 에서 뜨는 경고 문구는 verify=False를 사용했기 때문에 발생했습니다. 출력 결과에는 이상이 없습니다.*\n",
    "  \n",
    "  \n",
    "    \n",
    "html 코드 내 순수한 문자열의 공통점은 '>'와 '<' 사이에 위치한다는 것이다. 이 사실을 활용하여 문제를 해결하였다.  \n",
    "  \n",
    "**1. 앞서 문자열 형태의 웹페이지에서 CSS, JavaScript 코드, 'head' 부분을 없앴다.**\n",
    "* 문자열 뿐만 아니라 'title' 내 문자열, 'style' 내 CSS 코드, 'script' 내 자바스크립트 코드 또한 '>'와 '<' 사이에 위치한다.  \n",
    "따라서 해당 태그를 tag_list 리스트에 넣고 find_tag 함수에서 find 메서드를 이용하여 각 태그의 인덱스를 찾았다. 그 인덱스를 바탕으로 modify_source 함수에서 delete_tag_content 함수를 이용하여 시작태그 포함 각 태그 속의 내용을 제거하였다. \n",
    "\n",
    "\n",
    "**2. '>' 전에 위치한 문자들을 제거하였다.**\n",
    "* findRightBracket 함수로 '>'의 모든 인덱스를 찾고, '>'와 다음 '>' 사이의 문자열을 'text' 리스트에 넣는 방식으로 제거하였다.\n",
    "\n",
    "\n",
    "**3. '<' 포함 이후 문자를 제거한 후, '>'와 모든 종류의 공백을 삭제하였다.**\n",
    "* '<'의 모든 인덱스를 찾고 '<' 이전의 문자열만 보존하였다. 그리고 해당 문자열의 각 문자들이 '>\\n\\t' 문자열에 있는지 확인하고 없으면 pure 문자열에 더하였다. 이 과정까지 끝내준 후, ' ' 공백을 없애주기 위해 strip 메소드를 이용하여 pure의 앞뒤 공백을 없애고, final_pure에 저장하여 마지막으로 *pure_text* 리스트에 넣었다.  \n",
    "\n",
    "\n",
    "**4. pure_text 리스트 내 빈 문자열과 그 밖 코드의 잔해들을 없앴다.**  \n",
    "\n",
    "\n",
    "\n",
    "(출력셀에 나타나지 않음) **5. pure_text는 리스트이므로 각 원소를 나열하여 출력하였다.**\n",
    "\n",
    "\n",
    "**6. pure_text의 각 요소의 단어 수를 센 다음 count에 그 값을 더하는 방식으로 순수 텍스트 문자열 안에 존재하는 단어 개수를 확인하고 출력하였다.**\n",
    "* split 메소드를 활용하여 공백을 기준으로 문자들을 구분하였다.\n",
    "****"
   ]
  },
  {
   "cell_type": "markdown",
   "id": "4bf8df04",
   "metadata": {},
   "source": [
    "# 소감"
   ]
  },
  {
   "cell_type": "markdown",
   "id": "53c819de",
   "metadata": {},
   "source": [
    "* 이 과제를 통해서 문자열과 리스트를 활용하는 것이 조금은 익숙해진 느낌이 들었습니다. 그래서 문자열과 리스트의 메서드를 최대한 활용해서 코드를 효율적이게 만들고 싶었으나 아직 연습이 많이 필요한 부분인 것 같습니다. 또한 incremental project를 비롯하여 이번 과제의 문제를 풀면서 출력할 때 입력값으로 최대한 많은 경우의 수를 생각할 줄 아는 것도 중요하다는 것을 다시 한번 깨달았습니다."
   ]
  }
 ],
 "metadata": {
  "kernelspec": {
   "display_name": "Python 3",
   "language": "python",
   "name": "python3"
  },
  "language_info": {
   "codemirror_mode": {
    "name": "ipython",
    "version": 3
   },
   "file_extension": ".py",
   "mimetype": "text/x-python",
   "name": "python",
   "nbconvert_exporter": "python",
   "pygments_lexer": "ipython3",
   "version": "3.8.8"
  }
 },
 "nbformat": 4,
 "nbformat_minor": 5
}
