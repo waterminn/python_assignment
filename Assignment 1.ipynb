{
 "cells": [
  {
   "cell_type": "markdown",
   "id": "2ce3bf0d",
   "metadata": {},
   "source": [
    "#### 2020136060 배수민\n",
    "# 문제"
   ]
  },
  {
   "cell_type": "markdown",
   "id": "cfd269a1",
   "metadata": {},
   "source": [
    "1. a = \"Hello Python\" 문자열을 Slicing과 연결 연산자(+)를 사용하여 \"Python Hello\"로 변경하시오.\n",
    "    * [주의]  a 변수 자체에 \"Python Hello\" 문자열이 저장되어야 함"
   ]
  },
  {
   "cell_type": "code",
   "execution_count": 1,
   "id": "30cf4d09",
   "metadata": {},
   "outputs": [
    {
     "data": {
      "text/plain": [
       "'Python Hello'"
      ]
     },
     "execution_count": 1,
     "metadata": {},
     "output_type": "execute_result"
    }
   ],
   "source": [
    "a = \"Hello Python\"\n",
    "a = a[6:] + ' ' + a[:5]\n",
    "a"
   ]
  },
  {
   "cell_type": "markdown",
   "id": "e2b8d788",
   "metadata": {},
   "source": [
    "### 1번 설명\n",
    "**a[6:]**   \n",
    ": P부터 끝까지 모든 문자를 반환한다. a[6:12]로도 표현 가능하다.  \n",
    "  -> Python \n",
    "  \n",
    "**a[:5]**   \n",
    ": 처음부터 ' '(공백) 전까지 모든 문자를 반환한다.  \n",
    "  -> Hello   \n",
    "  \n",
    "이 두개와 그 사이에 공백을 연결 연산자를 이용하여 a를 \"Python Hello\"로 변경하였다.\n",
    "************"
   ]
  },
  {
   "cell_type": "markdown",
   "id": "36bc1698",
   "metadata": {},
   "source": [
    "2. b=\"Hello Python World\" 문자열을 Slicing과 연결 연산자 (+)를 사용하여 \"World Python Hello\"로 변경하시오.\n",
    "    * [주의] b 변수 자체에 \"World Python Hello\" 문자열이 저장되어야 함"
   ]
  },
  {
   "cell_type": "code",
   "execution_count": 2,
   "id": "6957b56f",
   "metadata": {},
   "outputs": [
    {
     "data": {
      "text/plain": [
       "'World Python Hello'"
      ]
     },
     "execution_count": 2,
     "metadata": {},
     "output_type": "execute_result"
    }
   ],
   "source": [
    "b = \"Hello Python World\"\n",
    "b = b[-5:] + ' ' + b[6:-6] + ' ' + b[:5]\n",
    "b"
   ]
  },
  {
   "cell_type": "markdown",
   "id": "ae2ff416",
   "metadata": {},
   "source": [
    "### 2번 설명\n",
    "**b[-5:]**   \n",
    ": b[-5]는 'World' 전에 오는 공백으로, 공백 다음 문자인 W부터 끝까지 모든 문자를 반환한다.  \n",
    "  -> World\n",
    "  \n",
    "**b[6:-6]**   \n",
    ": b[6]인 P부터 b[-6]인 공백 전까지 모든 문자를 반환한다. b[6:12] 로도 표현 가능하다.   \n",
    "  -> Python \n",
    "\n",
    "**b[:5]**   \n",
    ": 처음부터 ' '(공백) 전까지 모든 문자를 반환한다.    \n",
    "  -> Hello \n",
    "  \n",
    "이 세개와 그 사이에 공백을 연결 연산자를 이용하여 b를 \"World Python Hello\"로 변경하였다.\n",
    "************"
   ]
  },
  {
   "cell_type": "markdown",
   "id": "89af1f63",
   "metadata": {},
   "source": [
    "3. c=\"Hello\"를 \"olleH\"로 변경하시오\n",
    "    * [주의] c 변수 자체에 \"olleH\" 문자열이 저장되어야 함"
   ]
  },
  {
   "cell_type": "code",
   "execution_count": 3,
   "id": "ec26d355",
   "metadata": {},
   "outputs": [
    {
     "data": {
      "text/plain": [
       "'olleH'"
      ]
     },
     "execution_count": 3,
     "metadata": {},
     "output_type": "execute_result"
    }
   ],
   "source": [
    "c = \"Hello\"\n",
    "c = c[::-1]\n",
    "c"
   ]
  },
  {
   "cell_type": "markdown",
   "id": "170b7131",
   "metadata": {},
   "source": [
    "### 3번 설명\n",
    "c를 처음부터 끝까지 -1 간격으로, 즉 역순으로 출력하게 하는 슬라이싱 문법 **c[::-1]** 를 사용하여 c를 'olleH'로 변경하였다.\n",
    "************"
   ]
  },
  {
   "cell_type": "markdown",
   "id": "29d62cf4",
   "metadata": {},
   "source": [
    "4. s=\"python\"에 대해 다음 문제를 풀어보시오.  \n",
    "    A. s[0], s[0][0], s[0][0][0]은 각각 어떤 값이 나오는지 확인하고 그 이유를 나름대로 설명해 보시오.  \n",
    "    B. s[-100], s[100]은 값이 나오는지 에러가 나오는지 확인하고 그 결과에 대한 이유를 나름대로 설명해 보시오.  \n",
    "    C. s[-100, 100]은 값이 나오는지 에러가 나오는지 확인하고 그 결과에 대한 이유를 나름대로 설명해 보시오.  \n",
    "    D. s[1:-1]의 결과를 확인하고 그 결과에 대한 이유를 정확하게 설명하시오.  \n",
    "    E. s[3:-3]의 결과를 확인하고 그 결과에 대한 이유를 정확하게 설명하시오.  "
   ]
  },
  {
   "cell_type": "code",
   "execution_count": 4,
   "id": "37748728",
   "metadata": {},
   "outputs": [],
   "source": [
    "s = \"python\""
   ]
  },
  {
   "cell_type": "code",
   "execution_count": 5,
   "id": "39a1afd1",
   "metadata": {},
   "outputs": [
    {
     "name": "stdout",
     "output_type": "stream",
     "text": [
      "p\n",
      "p\n",
      "p\n"
     ]
    }
   ],
   "source": [
    "# A\n",
    "print(s[0])\n",
    "print(s[0][0])\n",
    "print(s[0][0][0])"
   ]
  },
  {
   "cell_type": "markdown",
   "id": "69ac4e68",
   "metadata": {},
   "source": [
    "### A 이유\n",
    "s[0], s[0][0], s[0][0][0] 모두 차원 상관없이 'p'를 가리키기 때문에 셋 다 에러가 발생하지 않고 정상적으로 'p'를 출력한다.\n",
    "*********"
   ]
  },
  {
   "cell_type": "code",
   "execution_count": 6,
   "id": "12a4175d",
   "metadata": {},
   "outputs": [
    {
     "ename": "IndexError",
     "evalue": "string index out of range",
     "output_type": "error",
     "traceback": [
      "\u001b[1;31m---------------------------------------------------------------------------\u001b[0m",
      "\u001b[1;31mIndexError\u001b[0m                                Traceback (most recent call last)",
      "\u001b[1;32m<ipython-input-6-69b3a89dea71>\u001b[0m in \u001b[0;36m<module>\u001b[1;34m\u001b[0m\n\u001b[0;32m      1\u001b[0m \u001b[1;31m# B\u001b[0m\u001b[1;33m\u001b[0m\u001b[1;33m\u001b[0m\u001b[1;33m\u001b[0m\u001b[0m\n\u001b[1;32m----> 2\u001b[1;33m \u001b[0mprint\u001b[0m\u001b[1;33m(\u001b[0m\u001b[0ms\u001b[0m\u001b[1;33m[\u001b[0m\u001b[1;33m-\u001b[0m\u001b[1;36m100\u001b[0m\u001b[1;33m]\u001b[0m\u001b[1;33m)\u001b[0m\u001b[1;33m\u001b[0m\u001b[1;33m\u001b[0m\u001b[0m\n\u001b[0m\u001b[0;32m      3\u001b[0m \u001b[0mprint\u001b[0m\u001b[1;33m(\u001b[0m\u001b[0ms\u001b[0m\u001b[1;33m[\u001b[0m\u001b[1;36m100\u001b[0m\u001b[1;33m]\u001b[0m\u001b[1;33m)\u001b[0m\u001b[1;33m\u001b[0m\u001b[1;33m\u001b[0m\u001b[0m\n",
      "\u001b[1;31mIndexError\u001b[0m: string index out of range"
     ]
    }
   ],
   "source": [
    "# B\n",
    "print(s[-100])\n",
    "print(s[100])"
   ]
  },
  {
   "cell_type": "markdown",
   "id": "93159ff0",
   "metadata": {},
   "source": [
    "### B 이유\n",
    "'IndexError : string index out of range' 에서 알 수 있듯이  \n",
    "s[-100], s[100]은 문자열의 범위에서 벗어나는 인덱스이기 때문에 에러가 발생한다.\n",
    "*********"
   ]
  },
  {
   "cell_type": "code",
   "execution_count": 7,
   "id": "5dea2fbe",
   "metadata": {},
   "outputs": [
    {
     "ename": "TypeError",
     "evalue": "string indices must be integers",
     "output_type": "error",
     "traceback": [
      "\u001b[1;31m---------------------------------------------------------------------------\u001b[0m",
      "\u001b[1;31mTypeError\u001b[0m                                 Traceback (most recent call last)",
      "\u001b[1;32m<ipython-input-7-f873b34d5cc5>\u001b[0m in \u001b[0;36m<module>\u001b[1;34m\u001b[0m\n\u001b[0;32m      1\u001b[0m \u001b[1;31m# C\u001b[0m\u001b[1;33m\u001b[0m\u001b[1;33m\u001b[0m\u001b[1;33m\u001b[0m\u001b[0m\n\u001b[1;32m----> 2\u001b[1;33m \u001b[0mprint\u001b[0m\u001b[1;33m(\u001b[0m\u001b[0ms\u001b[0m\u001b[1;33m[\u001b[0m\u001b[1;33m-\u001b[0m\u001b[1;36m100\u001b[0m\u001b[1;33m,\u001b[0m \u001b[1;36m100\u001b[0m\u001b[1;33m]\u001b[0m\u001b[1;33m)\u001b[0m\u001b[1;33m\u001b[0m\u001b[1;33m\u001b[0m\u001b[0m\n\u001b[0m",
      "\u001b[1;31mTypeError\u001b[0m: string indices must be integers"
     ]
    }
   ],
   "source": [
    "# C\n",
    "print(s[-100, 100])"
   ]
  },
  {
   "cell_type": "markdown",
   "id": "faef6b7d",
   "metadata": {},
   "source": [
    "### C 이유\n",
    "'TypeError : string indices must be integers' 에 의하면    \n",
    "문자열의 인덱스는 항상 정수여야 하기 때문에 정수가 아닌 '-100, 100'이 인덱스로 들어가면 에러가 발생한다.\n",
    "*********"
   ]
  },
  {
   "cell_type": "code",
   "execution_count": 8,
   "id": "33d42655",
   "metadata": {},
   "outputs": [
    {
     "name": "stdout",
     "output_type": "stream",
     "text": [
      "ytho\n"
     ]
    }
   ],
   "source": [
    "# D\n",
    "print(s[1:-1])"
   ]
  },
  {
   "cell_type": "markdown",
   "id": "c0182a81",
   "metadata": {},
   "source": [
    "### D 이유\n",
    "**s[1:-1]** 는 인덱스 1 (y) 부터 인덱스 -1 (마지막 문자 n) 전까지 포함한 문자열을 기존 문자열에서 슬라이싱하여 반환한다.  \n",
    "따라서 'ytho' 가 출력된다.  \n",
    "************"
   ]
  },
  {
   "cell_type": "code",
   "execution_count": 9,
   "id": "493c94dd",
   "metadata": {},
   "outputs": [
    {
     "name": "stdout",
     "output_type": "stream",
     "text": [
      "\n"
     ]
    }
   ],
   "source": [
    "# E\n",
    "print(s[3:-3])"
   ]
  },
  {
   "cell_type": "markdown",
   "id": "a05a1d4e",
   "metadata": {},
   "source": [
    "### E 이유\n",
    "**s[3:-3]** 는 인덱스 3 (h) 부터 인덱스 -3 (h) 전까지 포함한 문자열을 기존 문자열에서 슬라이싱하여 반환한다.  \n",
    "하지만 인덱스 3과 -3 사이에 문자가 존재하지 않는다. 따라서 공백이 출력되는 결과가 나온다.  \n",
    "***********"
   ]
  },
  {
   "cell_type": "markdown",
   "id": "641a81dc",
   "metadata": {},
   "source": [
    "5. for문을 활용하여 1부터 100사이의 홀수를 출력하시오."
   ]
  },
  {
   "cell_type": "code",
   "execution_count": 10,
   "id": "c58a45ac",
   "metadata": {},
   "outputs": [
    {
     "name": "stdout",
     "output_type": "stream",
     "text": [
      "1\n",
      "3\n",
      "5\n",
      "7\n",
      "9\n",
      "11\n",
      "13\n",
      "15\n",
      "17\n",
      "19\n",
      "21\n",
      "23\n",
      "25\n",
      "27\n",
      "29\n",
      "31\n",
      "33\n",
      "35\n",
      "37\n",
      "39\n",
      "41\n",
      "43\n",
      "45\n",
      "47\n",
      "49\n",
      "51\n",
      "53\n",
      "55\n",
      "57\n",
      "59\n",
      "61\n",
      "63\n",
      "65\n",
      "67\n",
      "69\n",
      "71\n",
      "73\n",
      "75\n",
      "77\n",
      "79\n",
      "81\n",
      "83\n",
      "85\n",
      "87\n",
      "89\n",
      "91\n",
      "93\n",
      "95\n",
      "97\n",
      "99\n"
     ]
    }
   ],
   "source": [
    "for i in range(100):\n",
    "    if (i % 2 == 1):\n",
    "        print(i)"
   ]
  },
  {
   "cell_type": "markdown",
   "id": "eb9afa1f",
   "metadata": {},
   "source": [
    "### 5번 설명\n",
    "1. range(100)은 0~99의 정수로, for 반복문의 내부 코드가 100번 반복하게 해준다.\n",
    "2. 홀수는 2로 나눈 나머지가 1이기 때문에 'i % 2 == 1'로 홀수 판정을 해주고 홀수라고 판정된 i만 출력하였다.\n",
    "************"
   ]
  },
  {
   "cell_type": "markdown",
   "id": "8efbd6da",
   "metadata": {},
   "source": [
    "6. while문을 활용하여 1부터 100사이의 짝수의 합을 계산하여 출력하시오."
   ]
  },
  {
   "cell_type": "code",
   "execution_count": 11,
   "id": "2fc068d3",
   "metadata": {},
   "outputs": [
    {
     "name": "stdout",
     "output_type": "stream",
     "text": [
      "2550\n"
     ]
    }
   ],
   "source": [
    "sum = 0\n",
    "i = 1\n",
    "while i <= 100:\n",
    "    if (i % 2 == 0):\n",
    "        sum += i\n",
    "    i += 1\n",
    "print(sum)           "
   ]
  },
  {
   "cell_type": "markdown",
   "id": "94f21507",
   "metadata": {},
   "source": [
    "### 6번 설명\n",
    "while문으로 i가 100이 될 때까지 i를 1씩 증가시켜 짝수이면 sum에 그 수를 더했다. (이때 sum은 합을 저장하는 변수이다.)  \n",
    "5번 문제와 유사하게 2로 나눈 나머지가 0일 때 i를 짝수로 판정하였다.  \n",
    "반복문이 끝나면 최종적으로 1부터 100사이의 짝수의 합 ***2550*** 이 나오도록 하였다.\n",
    "************"
   ]
  },
  {
   "cell_type": "markdown",
   "id": "eec044a3",
   "metadata": {},
   "source": [
    "7. 사용자로부터 임의의 정수를 입력받고, 해당 숫자를 역순으로 출력하는 프로그램을 작성하시오.  \n",
    "  \n",
    "    [실행 예]  \n",
    "        정수를 입력하세요: 3125  \n",
    "        숫자 역순은 5213 입니다."
   ]
  },
  {
   "cell_type": "code",
   "execution_count": 12,
   "id": "946ebd2d",
   "metadata": {},
   "outputs": [
    {
     "name": "stdout",
     "output_type": "stream",
     "text": [
      "정수를 입력하세요: 2020136060\n",
      "숫자 역순은 0606310202 입니다.\n"
     ]
    }
   ],
   "source": [
    "num = int(input('정수를 입력하세요: '))\n",
    "string = str(num)\n",
    "print('숫자 역순은', string[::-1], '입니다.')"
   ]
  },
  {
   "cell_type": "markdown",
   "id": "2757be71",
   "metadata": {},
   "source": [
    "### 7번 설명\n",
    "3번과 비슷한 문제로, 입력받은 정수를 문자열로 변환하여 슬라이싱 문법 string[::-1]를 이용하여 역순으로 출력하면 해결되는 문제이다.   \n",
    "정수는 인덱싱과 슬라이싱이 불가능하기 때문에 이 두개가 가능한 문자열, 리스트 등으로 변경해야 한다.\n",
    "************"
   ]
  },
  {
   "cell_type": "markdown",
   "id": "fca68f6c",
   "metadata": {},
   "source": [
    "8. 사용자로 부터 정수를 입력받아서 1부터 그 사이에 존재하는 소수 (Prime number)를 출력하는 파이썬 프로그램을 작성하시오. "
   ]
  },
  {
   "cell_type": "code",
   "execution_count": 13,
   "id": "e03fb6c5",
   "metadata": {},
   "outputs": [
    {
     "name": "stdout",
     "output_type": "stream",
     "text": [
      "정수를 입력하세요: 20\n",
      "2\n",
      "3\n",
      "5\n",
      "7\n",
      "11\n",
      "13\n",
      "17\n",
      "19\n"
     ]
    }
   ],
   "source": [
    "num = int(input('정수를 입력하세요: '))\n",
    "for i in range(2, num):\n",
    "    divisor = 0\n",
    "    for j in range (1, i+1):\n",
    "        if (i % j == 0):\n",
    "            divisor += 1\n",
    "    if divisor == 2:\n",
    "        print(i)"
   ]
  },
  {
   "cell_type": "markdown",
   "id": "839d93cf",
   "metadata": {},
   "source": [
    "### 8번 설명\n",
    "소수는 약수가 오로지 1과 자기자신 밖에 없는 숫자이다. 이 개념을 이용하여 이번 문제를 해결하였다.\n",
    "  \n",
    "약수의 개수를 나타내는 변수 divisor를 설정해주었고,    \n",
    "소수를 판별하기 위해 이중 for 반복문으로 (1은 소수가 아니기 때문에) 2부터 입력받은 정수 사이의 숫자인 i를 1부터 해당 숫자까지인 j로 나누었다. 만약 나머지가 0이 나온다면 j는 i의 약수이므로 divisor의 값을 1 증가시킨다.  \n",
    "내부 반복문 종료 후, divisor의 값을 확인하여 2이면 i가 출력되도록 하였다.\n",
    "**********"
   ]
  },
  {
   "cell_type": "markdown",
   "id": "f0a1e6f7",
   "metadata": {},
   "source": [
    "9. Kevin과 Stuart는 게임을 한다. 규칙은 아래와 같다.  \n",
    "  \n",
    "    * 두 플레이어에게 같은 string S가 주어진다.  \n",
    "    * 두 플레이어는 string S의 문자를 사용하여 substring을 만들어야 한다(중복 가능).  \n",
    "    * Stuart는 자음으로 시작하는 단어를 만들어야 한다.  \n",
    "    * Kevin은 모음으로 시작하는 단어를 만들어야 한다.  \n",
    "    * 게임은 두 플레이어가 만들 수 있는 모든 단어를 만들었을 때 끝난다.  \n",
    "    * 점수 계산 : substring 1개당 +1 점을 획득한다.  \n",
    "    * 사용자로 부터 대문자로 이루어진 string S를 입력받고, 승자와 그의 점수를 출력하는 프로그램을 작성하시오.  \n",
    "       \n",
    "    [실행 예]  \n",
    "            string S를 입력하세요: BANANA  \n",
    "            승자: Stuart 점수: 12  "
   ]
  },
  {
   "cell_type": "code",
   "execution_count": 14,
   "id": "295e5b7c",
   "metadata": {},
   "outputs": [
    {
     "name": "stdout",
     "output_type": "stream",
     "text": [
      "string S를 입력하세요: PINEAPPLE\n",
      "승자: Stuart 점수: 25\n"
     ]
    }
   ],
   "source": [
    "s = input('string S를 입력하세요: ')\n",
    "S = s.upper()\n",
    "stu = 0\n",
    "kvn = 0\n",
    "num = 0\n",
    "\n",
    "for start in S:\n",
    "    if start not in 'AEIOU':\n",
    "        stu += (len(S[num:]))\n",
    "    elif start in 'AEIOU':\n",
    "        kvn += (len(S[num:]))\n",
    "    num += 1\n",
    "\n",
    "if stu > kvn:\n",
    "    print('승자: Stuart 점수:', stu)\n",
    "elif stu < kvn:\n",
    "    print('승자: Kevin 점수:', kvn)\n",
    "else:\n",
    "    print('동점입니다. Stuart: {}, Kevin: {}'.format(stu, kvn))"
   ]
  },
  {
   "cell_type": "markdown",
   "id": "81c620b8",
   "metadata": {},
   "source": [
    "### 9번 설명\n",
    "1. 사용자에게 s를 입력받고 s에 소문자가 들어간 상황을 고려하여 upper()를 이용하여 문자 전체를 대문자로 변경해주었다.  \n",
    "2. Stuart와 Kevin의 점수를 저장하는 변수 stu, kvn을 0으로 초기화하였다.  \n",
    "3. **이 문제에서는 문자들의 순서는 보존되므로** (BANANA에서 ANB 같은 문자열은 포함하지 않음) **한 문자로 시작하는 substring의 개수는 그 문자부터 끝까지의 모든 문자의 개수와 같다.**  \n",
    "4. 반복문을 이용하여 문자열 S에 있는 문자들을 확인하면서 모음이 모여있는 문자열 'AEIOU'에 문자 start가 포함되지 않으면 Stuart에게, 포함되면 Kevin에게 점수를 주었다.\n",
    "5. 이때 슬라이싱 문법을 활용하여 인덱스 num부터 끝까지 모든 문자들이 모여있는 문자열의 길이를 점수 변수에 더해주었다.\n",
    "6. 반복문이 종료되면, stu와 kvn를 비교하여 승자를 결정하고 점수도 같이 출력되도록 하였다. \n",
    "**********"
   ]
  },
  {
   "cell_type": "markdown",
   "id": "ddfe78f3",
   "metadata": {},
   "source": [
    "10. 알파벳 소문자만으로 이루어진 string S가 주어지고 아래 2가지 연산으로 수행할 수 있다.  \n",
    "    * 추가: string S의 끝에 알파벳 소문자 하나를 추가한다.  \n",
    "    * 삭제: string S의 마지막 문자 하나를 삭제한다. empty string에서 삭제 연산을 수행한 결과는 empty string이다.  \n",
    "  \n",
    "두 개의 string S와 t, 그리고 정수 k가 주어질 때, 정확히 k번의 연산을 통해 s를 t로 바꿀 수 있는지 판단하는 함수를 작성하시오."
   ]
  },
  {
   "cell_type": "code",
   "execution_count": 15,
   "id": "a579b386",
   "metadata": {},
   "outputs": [
    {
     "name": "stdout",
     "output_type": "stream",
     "text": [
      "s = hackerhappy\n",
      "t = hackerrank\n",
      "k = 9\n",
      "=> Yes\n"
     ]
    }
   ],
   "source": [
    "input_s = input('s = ')\n",
    "input_t = input('t = ')\n",
    "k = int(input('k = '))\n",
    "s = input_s.lower()\n",
    "t = input_t.lower()\n",
    "\n",
    "def appendDelete(s, t, k):\n",
    "    count = 0\n",
    "    while s != t:\n",
    "        if len(s) > len(t):\n",
    "            for i in range(len(s)-len(t)):\n",
    "                s = s[:-1]\n",
    "                count += 1\n",
    "        for i in range(len(s)):\n",
    "            if s[i] != t[i]:\n",
    "                count += (len(s) - i)\n",
    "                s = s[:i]\n",
    "                break\n",
    "                \n",
    "        count += (len(t) - len(s))\n",
    "        s = t\n",
    "    \n",
    "    # print(count) - 코드 검증용\n",
    "    if k >= count:  \n",
    "        return 'Yes'\n",
    "    else:\n",
    "        return 'No'\n",
    "\n",
    "print('=>', appendDelete(s, t, k))"
   ]
  },
  {
   "cell_type": "markdown",
   "id": "ef1c23fd",
   "metadata": {},
   "source": [
    "### 10번 설명\n",
    "1. 사용자에게 s와 t를 입력받고 대문자가 들어간 상황을 고려하여 lower()를 이용하여 s, t 문자 전체를 소문자로 변경해주었다. 정수 k도 입력받았다.\n",
    "  \n",
    "(함수 appendDelete())  \n",
    "2. 연산 수행 횟수를 저장한 변수 count를 0으로 초기화하였다.  \n",
    "3. 문자열 s와 t가 일치할 때까지 while 반복문으로 연산이 수행되도록 하였다.  \n",
    "4. 편의상 삭제를 완료한 후, 추가를 할 수 있게 했다.  \n",
    "5. s = 'ashley', t = 'ash' 같은 경우에서도 연산이 가능하도록 s의 길이가 t의 길이를 넘지 않도록 하였다.  \n",
    "s의 길이가 t보다 길 때, len(s)와 len(t)의 차이만큼 **s[:-1]** 로 마지막 문자를 제거하면서 t의 길이와 같아지도록 했고  \n",
    "count에 len(s)-len(t)를 더해주었다.  \n",
    "6. 5번이 수행되거나 s의 길이가 t의 길이를 넘지 않을 때, s와 t의 n번째 문자를 비교하여 만약 일치하지 않을 시, 슬라이싱을 사용하여 s의 n번째 문자부터 끝까지 모든 문자를 삭제하는 연산이 수행되도록 하였다. (처음부터 n번째 문자 전까지만 보존)  \n",
    "count에 삭제된 문자의 수 len(s) - i를 더해주고 (i는 0부터 시작하므로 삭제하고 남은 문자의 수를 나타내기도 한다.) break를 사용하여 반복문을 종료하였다.  \n",
    "7. 앞의 과정을 전부 수행하고 나면 s에는 기존 문자열 s와 t가 겹치는 문자만이 남는다.  \n",
    "8. 이제 추가만 남았고, 추가 연산을 수행하는 횟수는 t의 문자 중 s와 겹치지 않는 문자의 개수와 같기 때문에 **count에 len(t)-len(s)를 더한다.**  \n",
    "9. 모든 연산이 끝났으므로 while 반복문을 종료시키기 위해 s = t를 수행한다.  \n",
    "10. count가 k를 넘지 않으면 k번의 연산을 통해 s를 t로 바꿀 수 있다는 의미이므로 'Yes', k를 넘으면 'No'를 반환한다.   \n",
    "**********"
   ]
  },
  {
   "cell_type": "markdown",
   "id": "1dfd00c8",
   "metadata": {},
   "source": [
    "# 소감"
   ]
  },
  {
   "cell_type": "markdown",
   "id": "88b99f53",
   "metadata": {},
   "source": [
    "> 과제를 수행하면서 슬라이싱의 편의성을 잘 알게 되었습니다. 이전에 배웠던 C, C++, 자바에는 없던 기능이라서 장점이 더 크게 와닿았던 것 같습니다. 아직 파이썬에 익숙하지 않은 학생으로서 과제의 난이도가 적당하다고 느꼈고, 이번 과제를 통해 지금까지 배운 내용을 학습하는 데 큰 도움을 받았습니다.  \n",
    "\n",
    "\\+ 9번, 10번 등 제가 제출한 것보다 더 효율적인 코드를 알아보고 싶은 문제들도 있는데 혹시 과제 제출이 마감된 이후 해답을 올리시는지 궁금합니다."
   ]
  }
 ],
 "metadata": {
  "kernelspec": {
   "display_name": "Python 3",
   "language": "python",
   "name": "python3"
  },
  "language_info": {
   "codemirror_mode": {
    "name": "ipython",
    "version": 3
   },
   "file_extension": ".py",
   "mimetype": "text/x-python",
   "name": "python",
   "nbconvert_exporter": "python",
   "pygments_lexer": "ipython3",
   "version": "3.8.8"
  }
 },
 "nbformat": 4,
 "nbformat_minor": 5
}
