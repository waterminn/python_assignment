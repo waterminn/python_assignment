{
 "cells": [
  {
   "cell_type": "markdown",
   "id": "678c2dba",
   "metadata": {},
   "source": [
    "#### 2020136060 배수민"
   ]
  },
  {
   "cell_type": "markdown",
   "id": "a1eca101",
   "metadata": {},
   "source": [
    "# 일반 문제"
   ]
  },
  {
   "cell_type": "markdown",
   "id": "d57d4726",
   "metadata": {},
   "source": [
    "### 1번"
   ]
  },
  {
   "cell_type": "markdown",
   "id": "4e711413",
   "metadata": {},
   "source": [
    "L=[1, 2, 3, 4, 5]일 때 다음 각 문장을 수행한 후의 결과를 보고 납득할 만한 이유를 설명하시오."
   ]
  },
  {
   "cell_type": "code",
   "execution_count": 26,
   "id": "3b58d0a7",
   "metadata": {},
   "outputs": [],
   "source": [
    "L = [1, 2, 3, 4, 5]"
   ]
  },
  {
   "cell_type": "code",
   "execution_count": 23,
   "id": "c1bc3508",
   "metadata": {},
   "outputs": [
    {
     "name": "stdout",
     "output_type": "stream",
     "text": [
      "[1, 100, 5]\n"
     ]
    }
   ],
   "source": [
    "# 1번\n",
    "L[1:3] = [100]\n",
    "print(L)"
   ]
  },
  {
   "cell_type": "markdown",
   "id": "fba6ac50",
   "metadata": {},
   "source": [
    "### 이유"
   ]
  },
  {
   "cell_type": "markdown",
   "id": "469355a1",
   "metadata": {},
   "source": [
    "L[1:3]은 리스트이기 때문에 같은 리스트인 [100]으로 대체가 가능하다. 그래서 [2, 3, 4]를 [100]으로 대체하고 출력값이 [1, 100, 5]가 나오는 것이다."
   ]
  },
  {
   "cell_type": "code",
   "execution_count": 27,
   "id": "d13e5da9",
   "metadata": {
    "scrolled": true
   },
   "outputs": [
    {
     "name": "stdout",
     "output_type": "stream",
     "text": [
      "[1, 100, 4, 5]\n"
     ]
    }
   ],
   "source": [
    "L[1:3] = [(100)]\n",
    "print(L)"
   ]
  },
  {
   "cell_type": "markdown",
   "id": "ec290a04",
   "metadata": {},
   "source": [
    "### 이유"
   ]
  },
  {
   "cell_type": "markdown",
   "id": "1b8a9587",
   "metadata": {},
   "source": []
  },
  {
   "cell_type": "code",
   "execution_count": 6,
   "id": "54083547",
   "metadata": {},
   "outputs": [
    {
     "ename": "TypeError",
     "evalue": "can only assign an iterable",
     "output_type": "error",
     "traceback": [
      "\u001b[1;31m---------------------------------------------------------------------------\u001b[0m",
      "\u001b[1;31mTypeError\u001b[0m                                 Traceback (most recent call last)",
      "\u001b[1;32m<ipython-input-6-0d5d54f04635>\u001b[0m in \u001b[0;36m<module>\u001b[1;34m\u001b[0m\n\u001b[1;32m----> 1\u001b[1;33m \u001b[0mL\u001b[0m\u001b[1;33m[\u001b[0m\u001b[1;36m1\u001b[0m\u001b[1;33m:\u001b[0m\u001b[1;36m3\u001b[0m\u001b[1;33m]\u001b[0m \u001b[1;33m=\u001b[0m \u001b[1;36m100\u001b[0m\u001b[1;33m\u001b[0m\u001b[1;33m\u001b[0m\u001b[0m\n\u001b[0m\u001b[0;32m      2\u001b[0m \u001b[0mprint\u001b[0m\u001b[1;33m(\u001b[0m\u001b[0mL\u001b[0m\u001b[1;33m)\u001b[0m\u001b[1;33m\u001b[0m\u001b[1;33m\u001b[0m\u001b[0m\n",
      "\u001b[1;31mTypeError\u001b[0m: can only assign an iterable"
     ]
    }
   ],
   "source": [
    "L[1:3] = 100\n",
    "print(L)"
   ]
  },
  {
   "cell_type": "code",
   "execution_count": 7,
   "id": "00c07a52",
   "metadata": {},
   "outputs": [
    {
     "ename": "TypeError",
     "evalue": "can only assign an iterable",
     "output_type": "error",
     "traceback": [
      "\u001b[1;31m---------------------------------------------------------------------------\u001b[0m",
      "\u001b[1;31mTypeError\u001b[0m                                 Traceback (most recent call last)",
      "\u001b[1;32m<ipython-input-7-efd35df85453>\u001b[0m in \u001b[0;36m<module>\u001b[1;34m\u001b[0m\n\u001b[1;32m----> 1\u001b[1;33m \u001b[0mL\u001b[0m\u001b[1;33m[\u001b[0m\u001b[1;36m1\u001b[0m\u001b[1;33m:\u001b[0m\u001b[1;36m3\u001b[0m\u001b[1;33m]\u001b[0m \u001b[1;33m=\u001b[0m \u001b[1;33m(\u001b[0m\u001b[1;36m100\u001b[0m\u001b[1;33m)\u001b[0m\u001b[1;33m\u001b[0m\u001b[1;33m\u001b[0m\u001b[0m\n\u001b[0m\u001b[0;32m      2\u001b[0m \u001b[0mprint\u001b[0m\u001b[1;33m(\u001b[0m\u001b[0mL\u001b[0m\u001b[1;33m)\u001b[0m\u001b[1;33m\u001b[0m\u001b[1;33m\u001b[0m\u001b[0m\n",
      "\u001b[1;31mTypeError\u001b[0m: can only assign an iterable"
     ]
    }
   ],
   "source": [
    "L[1:3] = (100)\n",
    "print(L)"
   ]
  },
  {
   "cell_type": "code",
   "execution_count": 8,
   "id": "e3e0bef7",
   "metadata": {},
   "outputs": [
    {
     "name": "stdout",
     "output_type": "stream",
     "text": [
      "[1, 100, 101, 102]\n"
     ]
    }
   ],
   "source": [
    "L[1:3] = (100, 101, 102)\n",
    "print(L)"
   ]
  },
  {
   "cell_type": "code",
   "execution_count": 9,
   "id": "15f1224f",
   "metadata": {},
   "outputs": [
    {
     "name": "stdout",
     "output_type": "stream",
     "text": [
      "[1, 100, 101, 102, 102]\n"
     ]
    }
   ],
   "source": [
    "L[1:3] = [100, 101, 102]\n",
    "print(L)"
   ]
  },
  {
   "cell_type": "code",
   "execution_count": 10,
   "id": "fa4e35a3",
   "metadata": {},
   "outputs": [
    {
     "name": "stdout",
     "output_type": "stream",
     "text": [
      "[1, (100, 101, 102), 102, 102]\n"
     ]
    }
   ],
   "source": [
    "L[1:3] = [(100, 101, 102)]\n",
    "print(L)"
   ]
  },
  {
   "cell_type": "code",
   "execution_count": 12,
   "id": "781a5f8e",
   "metadata": {},
   "outputs": [
    {
     "name": "stdout",
     "output_type": "stream",
     "text": [
      "[1, [100, 101, 102], 102]\n"
     ]
    }
   ],
   "source": [
    "L[1:3] = [[100, 101, 102]]\n",
    "print(L)"
   ]
  },
  {
   "cell_type": "markdown",
   "id": "f7a5bf9c",
   "metadata": {},
   "source": [
    "### 2번"
   ]
  },
  {
   "cell_type": "markdown",
   "id": "0cc46c7a",
   "metadata": {},
   "source": [
    "문자열 S = 'Hello World and Python'에 대해 다음 요구사항에 대한 Python 코드를 제시하시오.  \n",
    "* 1) 단어의 순서가 역순으로 되어진 문자열 ('Python and World Hello')을 만들고\n",
    "* 2) 1)의 결과 문자열에 대해 메소드 split과 join을 이용하여 공백을 모두 없앤 문자열 'PythonandWorldHello'을 만드시오."
   ]
  },
  {
   "cell_type": "code",
   "execution_count": 32,
   "id": "b899d255",
   "metadata": {},
   "outputs": [
    {
     "name": "stdout",
     "output_type": "stream",
     "text": [
      "역순 문자열: Python and World Hello\n",
      "공백 모두 없앤 문자열: PythonandWorldHello\n"
     ]
    }
   ],
   "source": [
    "S = 'Hello World and Python'\n",
    "S = S[-6:] + ' ' + S[-10:-7] + ' ' + S[6:-11] + ' ' + S[:5]\n",
    "print('역순 문자열:', S)\n",
    "\n",
    "s_split = S.split()\n",
    "S = ''.join(s_split)\n",
    "print('공백 모두 없앤 문자열:', S)"
   ]
  },
  {
   "cell_type": "markdown",
   "id": "00316779",
   "metadata": {},
   "source": [
    "### 2번 설명"
   ]
  },
  {
   "cell_type": "markdown",
   "id": "60d54e24",
   "metadata": {},
   "source": [
    "슬라이싱을 이용하여 단어의 순서가 역순으로 되어진 문자열 'Python and World Hello'을 만들었다. 다음으로 위의 코드에서 볼 수 있듯이 해당 문자열을 split 해주어 각 단어가 s_split 리스트의 요소로 저장되게 해주었고, join 메소드를 이용하여 s_split 리스트를 다시 문자열로 바꾸어 출력되게 하였다. "
   ]
  },
  {
   "cell_type": "markdown",
   "id": "a285e353",
   "metadata": {},
   "source": [
    "### 3번"
   ]
  },
  {
   "cell_type": "markdown",
   "id": "cddc08e8",
   "metadata": {},
   "source": [
    "다음 코드를 보고 물음에 답하시오.  \n",
    "  \n",
    "  \n",
    "    a = [1, 2, 3]  \n",
    "    b = a * 3  \n",
    "    c = [a] * 3  \n",
    "    print(b)  \n",
    "    print(c)  "
   ]
  },
  {
   "cell_type": "markdown",
   "id": "b676f58b",
   "metadata": {},
   "source": [
    "* 1) 위 코드를 수행한 이후 다음 코드를 수행하고 b와 c의 내용을 확인하시오.\n",
    "\n",
    "    a[0] = 0"
   ]
  },
  {
   "cell_type": "code",
   "execution_count": 29,
   "id": "32c9178c",
   "metadata": {},
   "outputs": [
    {
     "name": "stdout",
     "output_type": "stream",
     "text": [
      "[1, 2, 3, 1, 2, 3, 1, 2, 3]\n",
      "<class 'list'>\n",
      "[[1, 2, 3], [1, 2, 3], [1, 2, 3]]\n",
      "<class 'list'>\n"
     ]
    }
   ],
   "source": [
    "a = [1, 2, 3]\n",
    "b = a * 3\n",
    "c = [a] * 3\n",
    "print(b)\n",
    "print(c)"
   ]
  },
  {
   "cell_type": "code",
   "execution_count": 38,
   "id": "30315dd3",
   "metadata": {},
   "outputs": [
    {
     "name": "stdout",
     "output_type": "stream",
     "text": [
      "[0, 2, 3]\n",
      "[1, 2, 3, 1, 2, 3, 1, 2, 3]\n",
      "[[0, 2, 3], [0, 2, 3], [0, 2, 3]]\n"
     ]
    }
   ],
   "source": [
    "a[0] = 0\n",
    "print(b)\n",
    "print(c)"
   ]
  },
  {
   "cell_type": "markdown",
   "id": "eee9436c",
   "metadata": {},
   "source": [
    "* 2) b와 c 객체의 차이는 무엇인가?"
   ]
  },
  {
   "cell_type": "markdown",
   "id": "a36b3489",
   "metadata": {},
   "source": [
    "### 4번"
   ]
  },
  {
   "cell_type": "markdown",
   "id": "63af761e",
   "metadata": {},
   "source": [
    "다음 문자열을 ':'을 기준으로 분리하여 리스트로 만들고 각 문자열의 좌우 공백을 제거하시오. (즉, 문자열 S에서 l을 만들어라)  \n",
    "  \n",
    "    s = '  first star  :  second star  :   third star  '\n",
    "    l = ['first star', 'second star', 'third star']"
   ]
  },
  {
   "cell_type": "markdown",
   "id": "ba31658f",
   "metadata": {},
   "source": [
    "* 1) for~in 문을 이용한 코드를 작성하시오."
   ]
  },
  {
   "cell_type": "code",
   "execution_count": 6,
   "id": "b7566d22",
   "metadata": {},
   "outputs": [
    {
     "name": "stdout",
     "output_type": "stream",
     "text": [
      "['first star', 'second star', 'third star']\n"
     ]
    }
   ],
   "source": [
    "s = '  first star  :  second star  :   third star  '\n",
    "s_list = s.split(':')\n",
    "l = []\n",
    "\n",
    "for i in s_list:\n",
    "    l.append(i.strip())\n",
    "\n",
    "print(l) "
   ]
  },
  {
   "cell_type": "markdown",
   "id": "43fb150f",
   "metadata": {},
   "source": [
    "* 2) 리스트 내포(list comprehension)를 이용한 코드를 작성하시오."
   ]
  },
  {
   "cell_type": "code",
   "execution_count": 7,
   "id": "785f726b",
   "metadata": {},
   "outputs": [
    {
     "name": "stdout",
     "output_type": "stream",
     "text": [
      "['first star', 'second star', 'third star']\n"
     ]
    }
   ],
   "source": [
    "s = '  first star  :  second star  :   third star  '\n",
    "s_list = s.split(':')\n",
    "\n",
    "l = [i.strip() for i in s_list]\n",
    "print(l)"
   ]
  },
  {
   "cell_type": "markdown",
   "id": "8da3a56a",
   "metadata": {},
   "source": [
    "### 4번 설명"
   ]
  },
  {
   "cell_type": "markdown",
   "id": "971c5bef",
   "metadata": {},
   "source": [
    "1) for~in 문  \n",
    "먼저 문자열 s를 ':'을 기준으로 split 하여 각 단어가 s_list 리스트의 요소로 저장되게 하였다. 다음으로 리스트의 각 요소를 strip() 처리해주어 앞뒤에 공백이 없도록 하고 최종 출력 리스트 l에 추가하였다."
   ]
  },
  {
   "cell_type": "markdown",
   "id": "4cd66d49",
   "metadata": {},
   "source": [
    "2) 리스트 내포  \n",
    "먼저 문자열 s를 ':'을 기준으로 split 하여 각 단어가 s_list 리스트의 요소로 저장되게 하였다. 다음으로 리스트 내포를 이용하여 각 요소를 strip() 처리한 문자열을 요소로 가지고 있는 리스트를 최종 출력 리스트 l에 대입하였다."
   ]
  },
  {
   "cell_type": "markdown",
   "id": "cbb997a6",
   "metadata": {},
   "source": [
    "### 5번"
   ]
  },
  {
   "cell_type": "markdown",
   "id": "ae07e76c",
   "metadata": {},
   "source": [
    "다음과 같이 0보다 큰 정수 리스트 변수 list를 인자로 받는 함수 addall(list)와 addallodd(list)를 for ~ in 리터널과 리스트 내포 방식으로 각각 제시하시오.\n",
    "* [참고 1]: 리스트 내포 방식으로 addall() 및 addallodd()함수를 만들 때엔 리스트 내포에 의해 생성된 리스트 결과에 대해 내장 함수를 사용하는 방식을 고려해보시오 (주의: 리스트 내포 방식의 addall() 및 addallodd() 함수의 몸체는 단 1줄로 작성되어야 한다.)  \n",
    "* [참고 2]: sum() 등의 내장함수 사용 가능함"
   ]
  },
  {
   "cell_type": "markdown",
   "id": "01219663",
   "metadata": {},
   "source": [
    "* 1) addall(list) 함수 (리스트 내의 모든 정수를 더하는 함수로서 해답으로는 for ~ in 리터럴과 리스트 내포 방식으로 각각 제시하시오.)\n",
    "        >>> addall([1])  \n",
    "         1\n",
    "        \n",
    "        >>> addall([1, 2, 3, 4, 5, 6, 7, 8, 9])  \n",
    "         45"
   ]
  },
  {
   "cell_type": "code",
   "execution_count": 44,
   "id": "b8f85da6",
   "metadata": {},
   "outputs": [],
   "source": [
    "# for~in 리터럴\n",
    "def addall(list):\n",
    "    result = 0\n",
    "    for i in list:\n",
    "        result += i\n",
    "    return result"
   ]
  },
  {
   "cell_type": "code",
   "execution_count": 45,
   "id": "0a37bf52",
   "metadata": {},
   "outputs": [
    {
     "name": "stdout",
     "output_type": "stream",
     "text": [
      "1\n",
      "45\n"
     ]
    }
   ],
   "source": [
    "print(addall([1]))\n",
    "print(addall([1, 2, 3, 4, 5, 6, 7, 8, 9]))"
   ]
  },
  {
   "cell_type": "code",
   "execution_count": 46,
   "id": "0f766380",
   "metadata": {},
   "outputs": [],
   "source": [
    "# 리스트 내포\n",
    "def addall(list):\n",
    "    return sum([i for i in list])"
   ]
  },
  {
   "cell_type": "code",
   "execution_count": 47,
   "id": "72d4675e",
   "metadata": {},
   "outputs": [
    {
     "name": "stdout",
     "output_type": "stream",
     "text": [
      "1\n",
      "45\n"
     ]
    }
   ],
   "source": [
    "print(addall([1]))\n",
    "print(addall([1, 2, 3, 4, 5, 6, 7, 8, 9]))"
   ]
  },
  {
   "cell_type": "markdown",
   "id": "18cb82b7",
   "metadata": {},
   "source": [
    "### 5-1) 설명"
   ]
  },
  {
   "cell_type": "markdown",
   "id": "3441d183",
   "metadata": {},
   "source": [
    "리스트 각 요소의 합을 저장할 result를 선언해주었고,  \n",
    "for~in 리터럴 같은 경우에는 반복문을 진행하면서 각 요소를 i에 더해주었고 \n",
    "리스트 내포 같은 경우에는 sum을 이용하여 리스트의 요소를 모두 더해주었다."
   ]
  },
  {
   "cell_type": "markdown",
   "id": "4bbee6f9",
   "metadata": {},
   "source": [
    "* 2) addallodd(list) 함수 (리스트내의 모든 홀수를 더하는 함수로서 해답으로는 for ~ in 리터럴과 리스트 내포 방식으로 각각 제시하시오.) \n",
    "  \n",
    "        >>> addallodd([1])  \n",
    "         1  \n",
    "        \n",
    "        >>> addallodd([1, 2, 3, 4, 5, 6, 7, 8, 9])  \n",
    "         25"
   ]
  },
  {
   "cell_type": "code",
   "execution_count": 48,
   "id": "11c69bfa",
   "metadata": {},
   "outputs": [],
   "source": [
    "# for~in 리터럴\n",
    "def addallodd(list):\n",
    "    result = 0\n",
    "    for i in list:\n",
    "        if i % 2 == 1:\n",
    "            result += i\n",
    "    return result"
   ]
  },
  {
   "cell_type": "code",
   "execution_count": 49,
   "id": "9ace3be2",
   "metadata": {},
   "outputs": [
    {
     "name": "stdout",
     "output_type": "stream",
     "text": [
      "1\n",
      "25\n"
     ]
    }
   ],
   "source": [
    "print(addallodd([1]))\n",
    "print(addallodd([1, 2, 3, 4, 5, 6, 7, 8, 9]))"
   ]
  },
  {
   "cell_type": "code",
   "execution_count": 203,
   "id": "4da6c6d7",
   "metadata": {},
   "outputs": [],
   "source": [
    "# 리스트 내포\n",
    "def addallodd(list):\n",
    "    return sum([i for i in list if i % 2 == 1])"
   ]
  },
  {
   "cell_type": "code",
   "execution_count": 204,
   "id": "d920c416",
   "metadata": {},
   "outputs": [
    {
     "name": "stdout",
     "output_type": "stream",
     "text": [
      "1\n",
      "25\n"
     ]
    }
   ],
   "source": [
    "print(addallodd([1]))\n",
    "print(addallodd([1, 2, 3, 4, 5, 6, 7, 8, 9]))"
   ]
  },
  {
   "cell_type": "markdown",
   "id": "b71909e7",
   "metadata": {},
   "source": [
    "### 5-2) 설명"
   ]
  },
  {
   "cell_type": "markdown",
   "id": "a5ba2444",
   "metadata": {},
   "source": [
    "반복문 인자 i가 홀수만 되도록 'i % 2 == 1' 조건을 추가한 것을 제외하고 코드 진행 방식은 1)번과 동일하다. 리스트 내포 같은 경우에는 조건문을 마지막 부분에 넣어주면 된다."
   ]
  },
  {
   "cell_type": "markdown",
   "id": "3582ff27",
   "metadata": {},
   "source": [
    "### 6번"
   ]
  },
  {
   "cell_type": "markdown",
   "id": "eaeb0434",
   "metadata": {},
   "source": [
    "다음 코드를 보고 물음에 답하시오.\n",
    "\n",
    "    L1 = [1, 2, 3]\n",
    "    L2 = [4, 5, 6]\n",
    "    d = {'low':L1, 'high':L2}\n",
    "    e = d\n",
    "    f = d.copy()\n",
    "    print(d)\n",
    "    print(e)\n",
    "    print(f)\n",
    "    print()\n",
    "    d['low'] = [10, 20, 30]\n",
    "    d['high'][1] = 500\n",
    "    print(d)\n",
    "    print(e)\n",
    "    print(f)\n",
    "    \n",
    "* 1) 위 코드의 수행 결과 d와 e는 항상 같은 결과를 출력한다. 그 이유는 무엇인가?  \n",
    "* 2) 위 코드의 수행 결과 마지막 f의 내용은 다음과 같다. 이때 'high'키의 값 내용 중 500이 출력된 이유와 'low'키의 값 내용 중 [1, 2, 3]이 출력된 이유를 설명하시오  \n",
    "([hint]: shallow copy 관점에서 설명하시오.)  \n",
    "  \n",
    "      {'high': [4, 500, 6], 'low': [1, 2, 3]}"
   ]
  },
  {
   "cell_type": "markdown",
   "id": "842af631",
   "metadata": {},
   "source": [
    "### 7번"
   ]
  },
  {
   "cell_type": "markdown",
   "id": "2582e8f5",
   "metadata": {},
   "source": [
    "사전 d = {'one':1, 'two':2, 'three':3, 'four':4, 'five':5}가 주어졌을 때 다음 요구사항에 맞는 코드를 제시하시오.\n",
    "* [참고]: d.keys(), d.values()를 통해 리스트를 얻어낸 후 리스트가 지니고 있는 sort(cmp=None, key=None, reverse=False)함수를 활용하시오.  \n",
    "* 1) 키의 알파벳 오름차순 순서대로 튜플(키, 값)을 차례대로 출력하시오.  \n",
    "* 2) 키의 알파벳 내림차순 순서대로 튜플(키, 값)을 차례대로 출력하시오.  \n",
    "* 3) 값의 오름차순 순서대로 튜플(키, 값)을 차례대로 출력하시오.  \n",
    "* 4) 값의 내림차순 순서대로 튜플(키, 값)을 차례대로 출력하시오.  "
   ]
  },
  {
   "cell_type": "code",
   "execution_count": 187,
   "id": "aebbe90f",
   "metadata": {},
   "outputs": [],
   "source": [
    "d = {'one':1, 'two':2, 'three':3, 'four':4, 'five':5}\n",
    "values = list(d.values())\n",
    "#print(keys)\n",
    "#print(values)"
   ]
  },
  {
   "cell_type": "code",
   "execution_count": 188,
   "id": "60f0c3db",
   "metadata": {},
   "outputs": [
    {
     "name": "stdout",
     "output_type": "stream",
     "text": [
      "[('five', 5), ('four', 4), ('one', 1), ('three', 3), ('two', 2)]\n"
     ]
    }
   ],
   "source": [
    "# 키의 알파벳 오름차순 순서대로\n",
    "keys = list(d.keys())\n",
    "\n",
    "keys.sort()\n",
    "result = []\n",
    "for i in keys:\n",
    "    result.append((i, d[i]))\n",
    "\n",
    "print(result)"
   ]
  },
  {
   "cell_type": "markdown",
   "id": "448d2248",
   "metadata": {},
   "source": [
    "### 7-1) 설명"
   ]
  },
  {
   "cell_type": "markdown",
   "id": "9049307c",
   "metadata": {},
   "source": [
    "d.values()는 변경할 일이 없기 때문에 함수 외부에 선언을 해주었고, sort() 메소드로 인해 d.keys()는 변동이 있을 것이므로 각 함수 내부에 선언을 해주었다.  \n",
    "사전의 키가 담겨있는 리스트 keys를 sort() 해주면 키가 알파벳 오름차순으로 정렬되게 된다. 최종 출력 리스트 result에 튜플 (키, 값)을 더해주고 result를 출력하면 위의 출력 결과처럼 나온다."
   ]
  },
  {
   "cell_type": "code",
   "execution_count": 189,
   "id": "0495fdb0",
   "metadata": {},
   "outputs": [
    {
     "name": "stdout",
     "output_type": "stream",
     "text": [
      "[('two', 2), ('three', 3), ('one', 1), ('four', 4), ('five', 5)]\n"
     ]
    }
   ],
   "source": [
    "# 키의 알파벳 내림차순 순서대로\n",
    "keys = list(d.keys())\n",
    "\n",
    "keys.sort(reverse=True)\n",
    "result = []\n",
    "for i in keys:\n",
    "    result.append((i, d[i]))\n",
    "\n",
    "print(result)"
   ]
  },
  {
   "cell_type": "markdown",
   "id": "96094eab",
   "metadata": {},
   "source": [
    "### 7-2) 설명"
   ]
  },
  {
   "cell_type": "markdown",
   "id": "53afc421",
   "metadata": {},
   "source": [
    "사전의 키가 담겨있는 리스트 keys를 sort() 해주고 매개변수로 'reverse=True'를 추가해주면 키가 알파벳 내림차순으로 정렬되게 된다. 최종 출력 리스트 result에 튜플 (키, 값)을 더해주고 result를 출력하면 위의 출력 결과처럼 나온다."
   ]
  },
  {
   "cell_type": "code",
   "execution_count": 190,
   "id": "36d824c1",
   "metadata": {},
   "outputs": [
    {
     "name": "stdout",
     "output_type": "stream",
     "text": [
      "[('one', 1), ('two', 2), ('three', 3), ('four', 4), ('five', 5)]\n"
     ]
    }
   ],
   "source": [
    "# 값의 오름차순 순서대로\n",
    "keys = list(d.keys())\n",
    "\n",
    "keys.sort(key = lambda x : values)\n",
    "result = []\n",
    "for i in keys:\n",
    "    result.append((i, d[i]))\n",
    "\n",
    "print(result)"
   ]
  },
  {
   "cell_type": "markdown",
   "id": "244f636c",
   "metadata": {},
   "source": [
    "### 7-3) 설명"
   ]
  },
  {
   "cell_type": "markdown",
   "id": "a1d815db",
   "metadata": {},
   "source": [
    "사전의 값이 저장된 리스트 values를 기준으로 keys가 정렬되게 하였다. 그러면 결과로 키가 값의 오름차순으로 정렬되게 된다. 최종 출력 리스트 result에 튜플 (키, 값)을 더해주고 result를 출력하면 위의 출력 결과처럼 나온다."
   ]
  },
  {
   "cell_type": "code",
   "execution_count": 208,
   "id": "e0009503",
   "metadata": {},
   "outputs": [
    {
     "name": "stdout",
     "output_type": "stream",
     "text": [
      "[('five', 5), ('four', 4), ('three', 3), ('two', 2), ('one', 1)]\n"
     ]
    }
   ],
   "source": [
    "# 값의 내림차순 순서대로\n",
    "keys = list(d.keys())\n",
    "\n",
    "keys.sort(key = lambda x : values)\n",
    "keys = keys[::-1]\n",
    "result = []\n",
    "for i in keys:\n",
    "    result.append((i, d[i]))\n",
    "    \n",
    "print(result)"
   ]
  },
  {
   "cell_type": "markdown",
   "id": "bc221c5a",
   "metadata": {},
   "source": [
    "### 7-4) 설명"
   ]
  },
  {
   "cell_type": "markdown",
   "id": "403649ad",
   "metadata": {},
   "source": [
    "sort()의 매개변수에 'reverse=True'를 추가해도 값의 오름차순으로 정렬되었기 때문에 인덱싱과 슬라이싱을 이용하여 직접 변경하여 값의 내림차순으로 정렬해주었다. 최종 출력 리스트 result에 튜플 (키, 값)을 더해주고 result를 출력하면 위의 출력 결과처럼 나온다."
   ]
  },
  {
   "cell_type": "markdown",
   "id": "02ff61d3",
   "metadata": {},
   "source": [
    "### 8번"
   ]
  },
  {
   "cell_type": "markdown",
   "id": "13d462cd",
   "metadata": {},
   "source": [
    "다음 문제를 정확히 읽고 적합한 코딩을 제시하시오.\n",
    "* length(X)를 다음과 같이 정의한다 : 10진수로 표현된 X의 자릿수\n",
    "* Strange라는 숫자를 아래과 같이 정의한다.\n",
    "    * 음이 아닌 정수 중 자릿수가 1인 모든 숫자는 Strange이다.\n",
    "    * length(X) > 1 인 숫자 X 는 다음 2가지를 만족하면 Strange이다.\n",
    "        * X는 length(X)로 정확히 나누어 떨어진다.\n",
    "        * X / length(X) 가 strange이다.\n",
    "        \n",
    "        \n",
    "* 이 문제에서 숫자 하나가 주어질 때, 이 숫자가 Strange인지 판단하는 함수 isStrange(num)을 작성하시오.\n",
    "* isStrange(num) 함수가 재귀적인 함수가 되도록 작성해 보세요."
   ]
  },
  {
   "cell_type": "code",
   "execution_count": 32,
   "id": "f30c8000",
   "metadata": {},
   "outputs": [],
   "source": [
    "def length(x):\n",
    "    return len(str(x))"
   ]
  },
  {
   "cell_type": "code",
   "execution_count": 106,
   "id": "5e96835c",
   "metadata": {},
   "outputs": [],
   "source": [
    "def isStrange(num):\n",
    "    if length(num) == 1:\n",
    "        return True\n",
    "    elif isStrange(num // length(num)) and num % length(num) == 0:\n",
    "        return True\n",
    "    return False"
   ]
  },
  {
   "cell_type": "code",
   "execution_count": 107,
   "id": "7fa38f89",
   "metadata": {},
   "outputs": [
    {
     "name": "stdout",
     "output_type": "stream",
     "text": [
      "True\n",
      "True\n",
      "False\n",
      "True\n",
      "False\n"
     ]
    }
   ],
   "source": [
    "print(isStrange(0))\n",
    "print(isStrange(56))\n",
    "print(isStrange(100))\n",
    "print(isStrange(7882602506492313600))\n",
    "print(isStrange(6012302549522098651))"
   ]
  },
  {
   "cell_type": "markdown",
   "id": "a4c18d6e",
   "metadata": {},
   "source": [
    "### 8번 설명"
   ]
  },
  {
   "cell_type": "markdown",
   "id": "249129df",
   "metadata": {},
   "source": [
    "편의상 length(x) 함수를 따로 만들었고, 문자열로 바꾼 정수 x의 길이를 반환하였다.  일단 num이 음수인 경우에는 부호 때문에 length(num)가 최소 2 이상이라서 자릿수가 1이라는 것만 조건으로 세워주었다.  \n",
    "정수 나눗셈과 재귀를 이용하여 num / length(num)가 Strange임을 판별하였고 num은 length(num)로 정확히 나누어 떨어져야한다는 조건문과 and로 묶어주어 num이 Strange인지 판별하여 맞을시 True, 아닐시 False를 반환하였다. "
   ]
  },
  {
   "cell_type": "markdown",
   "id": "779209d8",
   "metadata": {},
   "source": [
    "### 9번"
   ]
  },
  {
   "cell_type": "markdown",
   "id": "3ce82780",
   "metadata": {},
   "source": [
    "* 1번 그룹, 2번 그룹, ... n번 그룹으로 번호가 매겨진 총 n개의 그룹이 존재하고, ith 그룹에는 임의의 팀원 수 ai 명이 있다.  \n",
    "하나의 버스 정류장이 있고, 버스는 오직 한 대만 운영한다. 버스는 버스 정류장에 도착하고 모든 그룹은 버스를 통해 여행하길 원한다.\n",
    "하지만, 같은 그룹에 속한 팀원들은 분리되기를 원치 않는다. 그래서 그룹의 모든 팀원이 탈 수 있을 때 에만 그 그룹은 버스에 탑승한다.\n",
    "또한, 이들은 그룹의 번호순으로 여행을 하길 원한다. 예를 들어, 3번 그룹은 1번 그룹과 2번 그룹이 여행을 한 뒤에 버스를 탈 수 있거나, 1번 그룹과 2번 그룹이 이미 버스에 탑승한 상태에 있을 때 동시에 버스를 탈 수 있다.\n",
    "마지막으로, 버스는 빈 좌석이 없을 때 에만 여행을 떠난다.\n",
    "  \n",
    "  \n",
    "* 이 문제에서 각 그룹의 팀원 수가 리스트로 주어질 때, 가능한 모든 버스의 사이즈 x(x명의 사람들이 동시에 탈 수 있음)를 반환하는 함수 solve(a) 를 작성하시오.\n",
    "* [주의] 반드시 계산 복잡도를 최대한 낮추세요. 아래 예시 3번을 실행했을 때 결과가 바로 나타날 수 있도록!!"
   ]
  },
  {
   "cell_type": "code",
   "execution_count": 126,
   "id": "d1c3d315",
   "metadata": {},
   "outputs": [],
   "source": [
    "def divisor(num_group):\n",
    "    result = {1, num_group}\n",
    "    for i in range(2, int(num_group**0.5)+1):\n",
    "        if num_group % i == 0:\n",
    "            result.add(i)\n",
    "            result.add(num_group // i)\n",
    "    result = list(result)\n",
    "    result.sort()\n",
    "    return result"
   ]
  },
  {
   "cell_type": "code",
   "execution_count": 159,
   "id": "f8c43c6e",
   "metadata": {},
   "outputs": [],
   "source": [
    "def solve(a):\n",
    "    bus_size = set({})\n",
    "    a_set = set(a)\n",
    "    if len(a_set) == 1:\n",
    "        return [a[0]*i for i in divisor(len(a))]\n",
    "    else:\n",
    "        div = [i for i in divisor(sum(a)) if i >= max(a)]\n",
    "        for i in div:\n",
    "            count = 0 \n",
    "            is_last = 0\n",
    "            for j in a:\n",
    "                count += j\n",
    "                is_last += 1\n",
    "                if (count == i):\n",
    "                    count = 0\n",
    "                    if j == a[-1] and is_last == len(a):\n",
    "                        bus_size.add(i)\n",
    "                elif count > i:\n",
    "                    break\n",
    "        bus_size = list(bus_size)\n",
    "        bus_size.sort()\n",
    "        return bus_size"
   ]
  },
  {
   "cell_type": "code",
   "execution_count": 161,
   "id": "41c34cdc",
   "metadata": {},
   "outputs": [
    {
     "name": "stdout",
     "output_type": "stream",
     "text": [
      "[3, 4, 6, 12]\n",
      "[1, 2, 4]\n",
      "[9999, 19998, 39996, 49995, 79992, 99990, 159984, 199980, 249975, 319968, 399960, 499950, 799920, 999900, 1249875, 1599840, 1999800, 2499750, 3999600, 4999500, 6249375, 7999200, 9999000, 12498750, 19998000, 24997500, 31246875, 39996000, 49995000, 62493750, 99990000, 124987500, 199980000, 249975000, 499950000, 999900000]\n",
      "[20]\n",
      "[3, 6, 12]\n",
      "[39]\n"
     ]
    }
   ],
   "source": [
    "a = [1, 2, 1, 1, 1, 2, 1, 3]\n",
    "b = [1, 1, 1, 1]\n",
    "c = [9999] * 10**5\n",
    "d = [2, 2, 2, 2, 3, 3, 3, 3]\n",
    "e = [1, 2, 1, 2, 1, 2, 1, 2]\n",
    "f = [1, 2, 10, 8, 2, 5, 1, 10]\n",
    "\n",
    "print(solve(a))\n",
    "print(solve(b))\n",
    "print(solve(c))\n",
    "print(solve(d))\n",
    "print(solve(e))\n",
    "print(solve(f))"
   ]
  },
  {
   "cell_type": "markdown",
   "id": "e8b511aa",
   "metadata": {},
   "source": [
    "### 9번 설명"
   ]
  },
  {
   "cell_type": "markdown",
   "id": "eecf49c8",
   "metadata": {},
   "source": [
    "해당 숫자의 약수를 구하는 divisor 함수를 만들었다. 반복문이 숫자의 제곱근까지 진행되도록 하여 계산 복잡도를 줄여주었다.   \n",
    "리스트 b, c와 같이 모든 그룹의 팀원 수가 같은 경우는 그룹의 수의 약수 리스트 요소에 팀원의 수를 곱해주면 바로 버스 사이즈의 집합이 나온다. 이 경우가 아닐 시, 반복문을 통해 리스트의 각 요소를 약수 리스트의 각 요소의 값 이상이 될 때까지 더해주었고, 만약 count가 약수 리스트의 각 요소랑 같을 시 반복문을 계속 진행하였고, 다를시 반복문을 종료하여 약수 리스트 다음 요소로 넘어가도록 했다.  \n",
    "반복문을 진행하다가 결국 j가 마지막 요소에 도달했을 때 약수 리스트 해당 요소를 최종 출력 리스트 bus_size에 추가하였다."
   ]
  },
  {
   "cell_type": "markdown",
   "id": "ad662367",
   "metadata": {},
   "source": [
    "# Incremental Project"
   ]
  },
  {
   "cell_type": "markdown",
   "id": "78fb8c0e",
   "metadata": {},
   "source": [
    "* 요구사항 1. CSS와 Javascript 내용도 모두 제거하시오 (이전 숙제에서 이미 제외하였다면 본 요구사항 무시)  \n",
    "\n",
    "  \n",
    "* 요구사항 2. 순수 텍스트 안에 존재하는 단어들에 대해 string 모듈을 활용하여 모든 punctuation (구두문자)를 완벽히 제거하시오.\n",
    "    * 예: ['world!', ':', '+hello+', '~python$$$', '=', 'world'] ---> ['world', 'hello', 'python', 'world']\n",
    "  \n",
    "  \n",
    "* 요구사항 3. 만약 punctuation (구두문자)를 제거한 이후 공백으로 판명되는 단어들은 해당 단어 리스트에서 제거하시오.\n",
    "    * 예: ['컴퓨터공학부!', '---?', '%지향~', '...'] ---> ['컴퓨터공학부', '', '지향', ''] ---> ['컴퓨터공학부', '지향']\n",
    "    \n",
    "    \n",
    "* 요구사항 4. 다음 5개의 사이트에 대한 단어 출현빈도 결과를 출력하시오.\n",
    "    * http://cse.koreatech.ac.kr\n",
    "    * https://www.koreatech.ac.kr\n",
    "    * http://www.naver.com\n",
    "    * http://www.daum.net\n",
    "    * http://www.nytimes.com"
   ]
  },
  {
   "cell_type": "code",
   "execution_count": 1,
   "id": "85e277f8",
   "metadata": {},
   "outputs": [
    {
     "name": "stderr",
     "output_type": "stream",
     "text": [
      "C:\\Users\\tnals\\anaconda3\\lib\\site-packages\\urllib3\\connectionpool.py:1013: InsecureRequestWarning: Unverified HTTPS request is being made to host 'cse.koreatech.ac.kr'. Adding certificate verification is strongly advised. See: https://urllib3.readthedocs.io/en/latest/advanced-usage.html#ssl-warnings\n",
      "  warnings.warn(\n"
     ]
    }
   ],
   "source": [
    "import requests\n",
    "\n",
    "#req1 = requests.get('http://cse.koreatech.ac.kr')\n",
    "req1 = requests.get('https://cse.koreatech.ac.kr/', verify=False)\n",
    "req2 = requests.get('https://www.koreatech.ac.kr')\n",
    "req3 = requests.get('http://www.naver.com')\n",
    "req4 = requests.get('http://www.daum.net')\n",
    "req5 = requests.get('http://www.nytimes.com')\n",
    "req6 = requests.get('https://dorm.koreatech.ac.kr/')\n",
    "req7 = requests.get('https://hanpyo.com/')\n",
    "\n",
    "source1 = req1.text\n",
    "source2 = req2.text\n",
    "source3 = req3.text\n",
    "source4 = req4.text\n",
    "source5 = req5.text\n",
    "source6 = req6.text\n",
    "source7 = req7.text\n",
    "\n",
    "#print(source1)\n",
    "#print(source2)\n",
    "#print(source3)\n",
    "#print(source4)\n",
    "#print(source5)\n",
    "#print(source6)\n",
    "#print(source7)"
   ]
  },
  {
   "cell_type": "code",
   "execution_count": 2,
   "id": "4e6ea831",
   "metadata": {},
   "outputs": [],
   "source": [
    "tag_list = ['<head>', '</head>', '<script', '</script>', '<style>', '</style>', '<url>', '</url>']\n",
    "\n",
    "def delete_tag_content(s, tags, tage):\n",
    "    source_tmp = s.split(tags)\n",
    "    source = []\n",
    "    for i in source_tmp:\n",
    "        if tage in i:\n",
    "            #i = i[i.find(tage)+len(tage)-1:]\n",
    "            i = i[i.find(tage)+len(tage):]\n",
    "            #if (i != '>'):\n",
    "                #source.append(i)\n",
    "            source.append(i)\n",
    "        else:\n",
    "            source.append(i)\n",
    "    source = ''.join(source)\n",
    "    return source"
   ]
  },
  {
   "cell_type": "code",
   "execution_count": 3,
   "id": "c86fea05",
   "metadata": {},
   "outputs": [],
   "source": [
    "def modify_source(s):\n",
    "    for i in range(0, len(tag_list), 2):\n",
    "        if tag_list[i] in s:\n",
    "            s = delete_tag_content(s, tag_list[i], tag_list[i+1])\n",
    "    return s     "
   ]
  },
  {
   "cell_type": "code",
   "execution_count": 4,
   "id": "b85754ef",
   "metadata": {},
   "outputs": [],
   "source": [
    "def delete_html(s):\n",
    "    text = s.split('>')\n",
    "    pure_text = []\n",
    "    #if \n",
    "    for i in text:\n",
    "        if '<' in i:\n",
    "            i = i[:i.find('<')]\n",
    "        if '._' in i:\n",
    "            i = i[:i.find('._')]\n",
    "        if no_blank(i) != '':\n",
    "            pure_text.append(no_blank(i))\n",
    "    return pure_text"
   ]
  },
  {
   "cell_type": "code",
   "execution_count": 5,
   "id": "88a09487",
   "metadata": {},
   "outputs": [],
   "source": [
    "# \\r\\n\\t 제거\n",
    "def no_blank(s):\n",
    "    pure = ''\n",
    "    final_pure = ''\n",
    "    for i in s:\n",
    "        if i not in '\\r\\n\\t':\n",
    "            pure = pure + i\n",
    "        final_pure = pure.strip()\n",
    "    return final_pure"
   ]
  },
  {
   "cell_type": "code",
   "execution_count": 6,
   "id": "e29fe0d5",
   "metadata": {},
   "outputs": [
    {
     "name": "stdout",
     "output_type": "stream",
     "text": [
      "!\"#$%&'()*+,-./:;<=>?@[\\]^_`{|}~“”\n"
     ]
    }
   ],
   "source": [
    "import string\n",
    "punc = string.punctuation\n",
    "punc = punc + '“”'\n",
    "print(punc)\n",
    "\n",
    "def just_words(lst):\n",
    "    final_text = []\n",
    "    final = ''\n",
    "    for i in lst:\n",
    "        text = ''\n",
    "        for j in i:\n",
    "            if j not in punc:\n",
    "                text = text + j\n",
    "        final = text\n",
    "        if final != '':\n",
    "            for k in final.split():\n",
    "                final_text.append(k)\n",
    "\n",
    "    return final_text"
   ]
  },
  {
   "cell_type": "code",
   "execution_count": 7,
   "id": "48548b07",
   "metadata": {},
   "outputs": [],
   "source": [
    "pure1 = delete_html(modify_source(source1))\n",
    "pure2 = delete_html(modify_source(source2))\n",
    "pure3 = delete_html(modify_source(source3))\n",
    "pure4 = delete_html(modify_source(source4))\n",
    "pure5 = delete_html(modify_source(source5))"
   ]
  },
  {
   "cell_type": "code",
   "execution_count": 8,
   "id": "fa808ae7",
   "metadata": {},
   "outputs": [],
   "source": [
    "def save_dict(lst):\n",
    "    word_dict = {}\n",
    "    for i in lst:\n",
    "        if word_dict.get(i) == None:\n",
    "            word_dict[i] = 1\n",
    "        else:\n",
    "            word_dict[i] = word_dict[i] + 1\n",
    "    return word_dict"
   ]
  },
  {
   "cell_type": "code",
   "execution_count": 9,
   "id": "961977fd",
   "metadata": {},
   "outputs": [],
   "source": [
    "def word_count(word):\n",
    "    count = 0\n",
    "    for i in word:\n",
    "        count += word[i]\n",
    "    return count"
   ]
  },
  {
   "cell_type": "code",
   "execution_count": 18,
   "id": "56c22c90",
   "metadata": {},
   "outputs": [
    {
     "name": "stdout",
     "output_type": "stream",
     "text": [
      "405\n",
      "714\n",
      "3963\n",
      "882\n",
      "2664\n"
     ]
    }
   ],
   "source": [
    "word1 = save_dict(just_words(pure1))\n",
    "word2 = save_dict(just_words(pure2))\n",
    "word3 = save_dict(just_words(pure3))\n",
    "word4 = save_dict(just_words(pure4))\n",
    "word5 = save_dict(just_words(pure5))\n",
    "\n",
    "#print(word1)\n",
    "#print(word2)\n",
    "#print(word3)\n",
    "#print(word4)\n",
    "#print(word5)\n",
    "\n",
    "print(word_count(word1))\n",
    "print(word_count(word2))\n",
    "print(word_count(word3))\n",
    "print(word_count(word4))\n",
    "print(word_count(word5))"
   ]
  }
 ],
 "metadata": {
  "kernelspec": {
   "display_name": "Python 3",
   "language": "python",
   "name": "python3"
  },
  "language_info": {
   "codemirror_mode": {
    "name": "ipython",
    "version": 3
   },
   "file_extension": ".py",
   "mimetype": "text/x-python",
   "name": "python",
   "nbconvert_exporter": "python",
   "pygments_lexer": "ipython3",
   "version": "3.8.8"
  }
 },
 "nbformat": 4,
 "nbformat_minor": 5
}
