{
 "cells": [
  {
   "cell_type": "markdown",
   "id": "f07666e6",
   "metadata": {},
   "source": [
    "#### 2020136060 배수민"
   ]
  },
  {
   "cell_type": "markdown",
   "id": "acd13fe2",
   "metadata": {},
   "source": [
    "# 일반문제"
   ]
  },
  {
   "cell_type": "markdown",
   "id": "4a44df62",
   "metadata": {},
   "source": [
    "### 1번"
   ]
  },
  {
   "cell_type": "markdown",
   "id": "e0997a9a",
   "metadata": {},
   "source": [
    "클래스와 모듈의 공통점과 차이점에 대해 설명하시오."
   ]
  },
  {
   "cell_type": "markdown",
   "id": "11df8e9d",
   "metadata": {},
   "source": [
    "### 1번 답"
   ]
  },
  {
   "cell_type": "markdown",
   "id": "a00e4c49",
   "metadata": {},
   "source": [
    "클래스와 모듈 둘다 용도에 맞도록 구성한 메서드나 변수를 캡슐화 시킨 후 가져다 사용한다는 공통점이 있지만 여러 면에서 차이점이 존재한다. 클래스는 객체를 생성하는데 사용되고, 모듈은 다른 프로그램으로 가져온 후 다른 클래스에 기능을 제공하기 위해 해당 모듈의 객체와 객체 멤버를 끌어오는 방식(라이브러리와 비슷) 으로 사용된다. 모듈은 클래스와 다르게 해당 모듈의 내부 멤버를 변경하여 사용하지 못한다. 인스턴스화도, 상속도 불가능하다는 의미이다.  \n",
    "사용하는 방식도 다르다. 모듈은 파일을 프로그램에 포함시키고 import를 통해 자유롭게 사용하지만, 클래스는 그 목적에 맞게 각 프로세스에서 상속하여 사용한다.  "
   ]
  },
  {
   "cell_type": "markdown",
   "id": "65611d4c",
   "metadata": {},
   "source": [
    "_____\n",
    "### 2번"
   ]
  },
  {
   "cell_type": "markdown",
   "id": "46c455fd",
   "metadata": {},
   "source": [
    "다형성에 대해 설명하고 다형성을 보여주는 자신만의 파이썬 코드 예제를 제시하시오."
   ]
  },
  {
   "cell_type": "markdown",
   "id": "b2e8f31f",
   "metadata": {},
   "source": [
    "### 2번 답"
   ]
  },
  {
   "cell_type": "markdown",
   "id": "b9bddfc2",
   "metadata": {},
   "source": [
    "다형성이란 같은 형태의 코드가 서로 다른 동작을 하는 것을 말한다. 클래스에 상관없이 같은 동작을 다른 객체에 적용할 수 있다. 다형성은 코드의 양을 줄이고 여러 객체 타입을 하나의 타입으로 관리가 가능하게 만들어 코드의 유지보수에 좋다. 특히 파이썬은 자료형을 선언하지 않기 때문에 메서드에 의해 처리될 수 있는 객체의 종류에 제한이 없어 다형성을 적용하기 더욱 용이한 언어이다."
   ]
  },
  {
   "cell_type": "code",
   "execution_count": 6,
   "id": "40c311da",
   "metadata": {},
   "outputs": [],
   "source": [
    "class Person:\n",
    "    def __init__(self, name, age):\n",
    "        self.name = name\n",
    "        self.age = age\n",
    "        \n",
    "    def introduce(self):\n",
    "        print(\"Hi! my name is {}. I'm {}, and I'm a person.\" \\\n",
    "              .format(self.name, self.age))\n",
    "        \n",
    "class Student(Person):\n",
    "    def __init__(self, name, age, studentID):\n",
    "        Person.__init__(self, name, age)\n",
    "        self.studentID = studentID\n",
    "        \n",
    "    def introduce(self):\n",
    "        print(\"Hi! my name is {} {}. I'm {}, and I'm a student.\" \\\n",
    "              .format(self.studentID, self.name, self.age))"
   ]
  },
  {
   "cell_type": "code",
   "execution_count": 7,
   "id": "2b08ff4f",
   "metadata": {},
   "outputs": [
    {
     "name": "stdout",
     "output_type": "stream",
     "text": [
      "Hi! my name is David. I'm 30, and I'm a person.\n",
      "Hi! my name is 2020136060 Sumin. I'm 21, and I'm a student.\n"
     ]
    }
   ],
   "source": [
    "p1 = Person(\"David\", 30)\n",
    "p2 = Student(\"Sumin\", 21, 2020136060)\n",
    "\n",
    "p1.introduce()\n",
    "p2.introduce()"
   ]
  },
  {
   "cell_type": "markdown",
   "id": "11af4b68",
   "metadata": {},
   "source": [
    "_____\n",
    "### 3번"
   ]
  },
  {
   "cell_type": "markdown",
   "id": "f8768ce2",
   "metadata": {},
   "source": [
    "다음 각 요구사항 모두를 만족시키는 Counter 클래스를 코딩하시오 (정답을 각 요구사항별로 입력할 필요 없이 3번 문제에 대해 1개의 클래스 정의 코드를 제시하면 된다.)\n",
    "* 생성자에 count 값과 step 값을 인자로 받을 수 있다.\n",
    "* Counter의 인스턴스를 출력을 해주는 __str__() 메소드를 Counter 클래스 내에 구현하시오.\n",
    "* step에 주어진 증분만큼 count를 증가시키는 incr() 메소드를 Counter 클래스 내에 구현하시오.\n",
    "* Counter 클래스 내에 관련 메소드를 추가하여 인스턴스 객체를 직접 호출(call)할 수 있도록 하시오. 인스턴스 객체를 직접 호출했을 때에 내부적으로 incr() 메소드를 호출하는 방법으로 구현하시오.\n",
    "* 두 개의 산술 연산 (+, -)이 수행될 수 있도록 Counter 클래스 내에 관련 메소드를 추가하시오.\n",
    "* 관계연산 (>, <, ==)이 수행될 수 있도록 Counter 클래스 내에 관련 메소드를 추가하시오."
   ]
  },
  {
   "cell_type": "code",
   "execution_count": 12,
   "id": "b07f1ab5",
   "metadata": {},
   "outputs": [],
   "source": [
    "class Counter:\n",
    "    def __init__(self, count=0, step=1):\n",
    "        self.count = count\n",
    "        self.step = step\n",
    "        \n",
    "    def __str__(self):\n",
    "        return \"[Count (step: {})] {}\".format(self.step, self.count)\n",
    "    \n",
    "    def __call__(self): \n",
    "        self.count = self.incr()\n",
    "        return self.count\n",
    "    \n",
    "    def __add__(self, n): return self.count + n\n",
    "    def __sub__(self, n): return self.count - n\n",
    "    def __eq__(self, n): return self.count == n\n",
    "    def __ne__(self, n): return self.count != n\n",
    "    def __gt__(self, n): return self.count > n\n",
    "    def __lt__(self, n): return self.count < n\n",
    "    \n",
    "    def incr(self):\n",
    "        self.count = self.count + self.step\n",
    "        return self.count"
   ]
  },
  {
   "cell_type": "code",
   "execution_count": 14,
   "id": "3fe53382",
   "metadata": {},
   "outputs": [
    {
     "name": "stdout",
     "output_type": "stream",
     "text": [
      "[Count (step: 1)] 10\n",
      "[Count (step: 2)] 10\n",
      "\n",
      "[Count (step: 1)] 11\n",
      "[Count (step: 2)] 12\n",
      "\n",
      "[Count (step: 1)] 12\n",
      "[Count (step: 2)] 14\n",
      "\n",
      "17\n",
      "9\n",
      "\n",
      "True False False\n",
      "True True False\n"
     ]
    }
   ],
   "source": [
    "c = Counter(10)\n",
    "d = Counter(10, 2)\n",
    "\n",
    "print(c); print(d)\n",
    "print()\n",
    "\n",
    "c.incr() \n",
    "d.incr()\n",
    "print(c); print(d)\n",
    "print()\n",
    "\n",
    "c()\n",
    "d()\n",
    "print(c); print(d)\n",
    "print()\n",
    "\n",
    "c = c + 5\n",
    "d = d - 5\n",
    "print(c); print(d)\n",
    "print()\n",
    "\n",
    "print(c > 10, end=\" \"); print(d > 10, end=\" \"); print(c < 10)\n",
    "print(d < 10, end=\" \"); print(c == 17, end=\" \"); print(d != 9)"
   ]
  },
  {
   "cell_type": "markdown",
   "id": "92ee8eba",
   "metadata": {},
   "source": [
    "### 3번 설명"
   ]
  },
  {
   "cell_type": "markdown",
   "id": "c7bffa07",
   "metadata": {},
   "source": [
    "* **요구사항1**: 생성자 \\_\\_init\\_\\_() 을 만들어주었고, 초기 정수 값 count는 0, 증분step은 1로 초기화하였다.   \n",
    "* **요구사항2**: format을 활용하여 요구사항에 맞게 출력되도록 하였다.  \n",
    "* **요구사항3**: \\_\\_str\\_\\_() 메서드를 통해 출력해야하기 때문에 count에 step을 더하고 count를 반환하는 방식으로 구현하였다.   \n",
    "* **요구사항4**: 매직 메서드 \\_\\_call\\_\\_()을 사용하였고, count의 값에 incr() 메서드가 반환하는 값을 대입하고 반환하여 인스턴스 객체를 직접 호출하도록 했다.  \n",
    "* **요구사항5**: \\_\\_add\\_\\_(), \\_\\_sub\\_\\_() 메서드를 통해 +, - 연산이 수행될 수 있도록 하였다. n을 인자로 두어 count에 더하거나 뺐다.\n",
    "* **요구사항6**: \\_\\_eq\\_\\_(), \\_\\_ne\\_\\_(), \\_\\_gt\\_\\_(), \\_\\_lt\\_\\_() 메서드를 통해 관계연산이 수행될 수 있도록 하였다. count의 값과 인자 n와 비교하여 True/False를 반환한다."
   ]
  },
  {
   "cell_type": "markdown",
   "id": "ebe62e1f",
   "metadata": {},
   "source": [
    "_____\n",
    "### 4번"
   ]
  },
  {
   "cell_type": "markdown",
   "id": "f4b84ba4",
   "metadata": {},
   "source": [
    "다음은 내장 자료형 list를 서브클래싱하여 만든 MySet 클래스 정의 내용이다. 다음 클래스 정의에서 \\_\\_init\\_\\_(), \\_\\_str\\_\\_(), elimicate_duplicate()의 세 개의 메소드 코드 내용을 자신이 다른 사람에게 가르친다고 생각하며 설명해보시오.  \n",
    " * MySet은 집합(Set) 자료형을 정의하려는 의도하에 만들어진 클래스이다."
   ]
  },
  {
   "cell_type": "code",
   "execution_count": 2,
   "id": "fbdfabba",
   "metadata": {},
   "outputs": [
    {
     "name": "stdout",
     "output_type": "stream",
     "text": [
      "MySet: {1 ,2 ,3}\n",
      "MySet: {2 ,3 ,4 ,5 ,6 ,7 ,8 ,9}\n"
     ]
    }
   ],
   "source": [
    "class MySet(list):\n",
    "    def __init__(self, l):\n",
    "        for e in l:\n",
    "            self.append(e)\n",
    "        MySet.eliminate_duplicate(self)\n",
    "    \n",
    "    def __str__(self):\n",
    "        result = \"MySet: {\"\n",
    "        for e in self:\n",
    "            result = result + str(e) + \" ,\"\n",
    "        result = result[0:len(result)-2] + \"}\"\n",
    "        return result\n",
    "\n",
    "    @staticmethod    \n",
    "    def eliminate_duplicate(l):\n",
    "        s = []\n",
    "        for e in l:\n",
    "            if e not in s:\n",
    "                s.append(e)\n",
    "        l[:] = []\n",
    "        for e in s:\n",
    "            l.append(e)\n",
    "\n",
    "    \n",
    "if __name__ == \"__main__\":\n",
    "    s = MySet([1, 2, 2, 3])\n",
    "    print(s)\n",
    "    t = MySet([2, 3, 4, 5, 6, 7, 8, 8, 8, 8, 8, 9])\n",
    "    print(t)"
   ]
  },
  {
   "cell_type": "markdown",
   "id": "cb088756",
   "metadata": {},
   "source": [
    "### 4번 설명"
   ]
  },
  {
   "cell_type": "markdown",
   "id": "465cb09b",
   "metadata": {},
   "source": [
    "* **\\_\\_init\\_\\_()**  \n",
    "MySet 클래스의 생성자이다. 이 클래스에서 인스턴스 변수는 리스트이기 때문에 인수 리스트 l의 모든 요소를 대입하고자 반복문을 사용한다. 집합 자료형에는 중복요소가 없기 때문에 대입 후 eliminate_duplicate 메서드를 이용하여 중복되는 요소를 제거해준다.\n",
    "\n",
    "\n",
    "* **\\_\\_str\\_\\_()**  \n",
    "메서드 안에서 정의한대로 \"MySet: {1 ,2 ,3}\"의 형태로 객체 데이터를 출력하게 하는 메서드이다. 문자열 result에 문자와 인스턴스 변수 내 모든 요소를 str 형태로 넣고 result를 반환하는 방식으로 구현하였다. \n",
    "\n",
    "\n",
    "* **eliminate_duplicate()**  \n",
    "인수 리스트 l에서 중복되는 요소를 제거해주는 메서드이다. l의 요소들을 반복문을 이용하여 차례대로 리스트 s에 넣고, l의 요소 e가 s에 존재할 때는 e를 s에 넣지 않는다.\n",
    "인수 리스트 l을 변경해야 하므로 l의 모든 요소를 s에 넣은 후, l을 빈 리스트로 초기화하고 s의 모든 요소를 l에 넣는다."
   ]
  },
  {
   "cell_type": "markdown",
   "id": "6d81ec47",
   "metadata": {},
   "source": [
    "_____\n",
    "### 5번"
   ]
  },
  {
   "cell_type": "markdown",
   "id": "1a0c6be6",
   "metadata": {},
   "source": [
    "4번 문제에 정의된 MySet 클래스에 메소드를 추가하여 다음 각 요구사항 모두를 만족시키는 코딩을 제시하시오.\n",
    "* | 연산으로 두 집합의 합집합을 반환한다.\n",
    "* & 연산으로 두 집합의 교집합을 반환한다.\n",
    "* \\- 연산으로 두 집합의 차집합을 반환한다."
   ]
  },
  {
   "cell_type": "code",
   "execution_count": 32,
   "id": "b11e5bd7",
   "metadata": {},
   "outputs": [
    {
     "name": "stdout",
     "output_type": "stream",
     "text": [
      "MySet: {1 ,2 ,3}\n",
      "MySet: {2 ,3 ,4 ,5 ,6 ,7 ,8 ,9}\n",
      "\n",
      "MySet: {1 ,2 ,3 ,4 ,5 ,6 ,7 ,8 ,9}\n",
      "MySet: {2 ,3}\n",
      "MySet: {1 ,2}\n"
     ]
    }
   ],
   "source": [
    "class MySet(list):\n",
    "    def __init__(self, l):\n",
    "        for e in l:\n",
    "            self.append(e)\n",
    "        MySet.eliminate_duplicate(self)\n",
    "    \n",
    "    def __str__(self):\n",
    "        result = \"MySet: {\"\n",
    "        for e in self:\n",
    "            result = result + str(e) + \" ,\"\n",
    "        result = result[0:len(result)-2] + \"}\"\n",
    "        return result\n",
    "    \n",
    "    # 추가된 메소드 and, or, sub\n",
    "    def __and__(self, other):\n",
    "        result = set(self) & set(other)\n",
    "        return MySet(list(result))\n",
    "    \n",
    "    def __or__(self, other):\n",
    "        result = set(self) | set(other)\n",
    "        return MySet(list(result))\n",
    "    \n",
    "    def __sub__(self, other):\n",
    "        result = set(self) - set(other)\n",
    "        return MySet(list(result))\n",
    "\n",
    "    @staticmethod    \n",
    "    def eliminate_duplicate(l):\n",
    "        s = []\n",
    "        for e in l:\n",
    "            if e not in s:\n",
    "                s.append(e)\n",
    "        l[:] = []\n",
    "        for e in s:\n",
    "            l.append(e)\n",
    "\n",
    "    \n",
    "if __name__ == \"__main__\":\n",
    "    s = MySet([1, 2, 2, 3])\n",
    "    print(s)\n",
    "    t = MySet([2, 3, 4, 5, 6, 7, 8, 8, 8, 8, 8, 9])\n",
    "    print(t)\n",
    "    print()\n",
    "    \n",
    "    w = s | t; print(w)\n",
    "    w = s & t; print(w)\n",
    "    \n",
    "    u = MySet([1, 2, 3])\n",
    "    v = MySet([3, 4, 5])\n",
    "    w = u - v; print(w)"
   ]
  },
  {
   "cell_type": "markdown",
   "id": "5b2ffaa9",
   "metadata": {},
   "source": [
    "### 5번 설명"
   ]
  },
  {
   "cell_type": "markdown",
   "id": "a722fc33",
   "metadata": {},
   "source": [
    "|, &, - 연산자를 각각 제어하는 매직 메서드 \\_\\_or\\_\\_(), \\_\\_and\\_\\_(), \\_\\_sub\\_\\_()을 합집합, 교집합, 차집합을 게산하도록 재정의하였다. 세트 컬렉션의 기능을 활용하여 값을 계산하였고, 결과값이 저장된 리스트 result를 인자로 하는 새 MySet 객체를 반환하였다."
   ]
  },
  {
   "cell_type": "markdown",
   "id": "747be11d",
   "metadata": {},
   "source": [
    "_____\n",
    "### 6번"
   ]
  },
  {
   "cell_type": "markdown",
   "id": "7e6bd15d",
   "metadata": {},
   "source": [
    "5번 문제에서 정의한 MySet 클래스에 대해 다음 예제를 수행하면 오류없이 올바르게 동작하는 것을 확인할 수 있다. 다음 예제 내에 있는 len(), bool() 내장함수와 in 키워드 사용 예제가 별다른 메소드 정의를 하지 않았는 데도 올바르게 수행되는 이유를 설명하시오."
   ]
  },
  {
   "cell_type": "markdown",
   "id": "a872b19c",
   "metadata": {},
   "source": [
    "### 6번 답"
   ]
  },
  {
   "cell_type": "markdown",
   "id": "adb8360e",
   "metadata": {},
   "source": [
    "내장함수와 키워드는 파이썬에서 기본적으로 정의된 것들이기 때문에 별도로 클래스에 정의할 필요가 없다. 하지만 정확성을 위해 따로 메소드를 정의해주는 것이 좋다. len()과 bool() 같은 경우에는 객체에서 사용될 때 클래스 내에서 이미 정의된 \\_\\_len\\_\\_, \\_\\_bool\\_\\_ 메서드가 호출되어 해당 기능을 사용할 수 있다. 키워드는 특별한 의미가 있는 예약어이고 이름을 지정하는 데 사용할 수 없기 때문에 재정의가 불가능하다. "
   ]
  },
  {
   "cell_type": "markdown",
   "id": "1ba1531a",
   "metadata": {},
   "source": [
    "_____\n",
    "# Incremental Project"
   ]
  },
  {
   "cell_type": "markdown",
   "id": "1b6c79d0",
   "metadata": {},
   "source": [
    "_____\n",
    "# 소감"
   ]
  },
  {
   "cell_type": "markdown",
   "id": "40ca2480",
   "metadata": {},
   "source": [
    "파이썬 뿐만 아니라 C++, 자바를 배울 때도 객체지향에 대해 배웠기 때문에 클래스를 만드는 것은 적응하였지만 이 과제를 통해 파이썬에서 클래스 관련 정의와 구성 요소 등에 대해 더욱 잘 알게 된 것 같습니다. 특히 다른 언어를 배울 때 연산자 재정의 부분을 이해하는데 시간이 좀 걸렸지만, 강의랑 과제에서 매직 메서드에 대해 배우고 사용하면서 이제 그 부분은 이해가 잘 갑니다. "
   ]
  }
 ],
 "metadata": {
  "kernelspec": {
   "display_name": "Python 3",
   "language": "python",
   "name": "python3"
  },
  "language_info": {
   "codemirror_mode": {
    "name": "ipython",
    "version": 3
   },
   "file_extension": ".py",
   "mimetype": "text/x-python",
   "name": "python",
   "nbconvert_exporter": "python",
   "pygments_lexer": "ipython3",
   "version": "3.8.8"
  }
 },
 "nbformat": 4,
 "nbformat_minor": 5
}
